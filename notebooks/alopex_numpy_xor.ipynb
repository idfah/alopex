{
 "cells": [
  {
   "cell_type": "code",
   "execution_count": 1,
   "id": "f605a4a9",
   "metadata": {},
   "outputs": [],
   "source": [
    "import matplotlib\n",
    "%matplotlib inline\n",
    "matplotlib.rcParams['figure.figsize'] = (12, 12)"
   ]
  },
  {
   "cell_type": "code",
   "execution_count": 27,
   "id": "b8ff1cde",
   "metadata": {},
   "outputs": [],
   "source": [
    "import munch\n",
    "import tqdm.notebook as tqdm\n",
    "\n",
    "import numpy as np\n",
    "import scipy as sp\n",
    "import scipy.optimize as _\n",
    "\n",
    "import matplotlib.pyplot as plt"
   ]
  },
  {
   "cell_type": "code",
   "execution_count": null,
   "id": "7b873bc7",
   "metadata": {},
   "outputs": [],
   "source": []
  },
  {
   "cell_type": "code",
   "execution_count": 28,
   "id": "5f5abd1e",
   "metadata": {},
   "outputs": [],
   "source": [
    "n = 1_000"
   ]
  },
  {
   "cell_type": "code",
   "execution_count": 29,
   "id": "b559e0d3",
   "metadata": {},
   "outputs": [
    {
     "data": {
      "text/plain": [
       "array([[False, False],\n",
       "       [ True,  True],\n",
       "       [False, False],\n",
       "       [False,  True],\n",
       "       ...,\n",
       "       [False, False],\n",
       "       [False,  True],\n",
       "       [False, False],\n",
       "       [False,  True]])"
      ]
     },
     "execution_count": 29,
     "metadata": {},
     "output_type": "execute_result"
    }
   ],
   "source": [
    "x = np.random.random((n, 2)) > 0.5\n",
    "x"
   ]
  },
  {
   "cell_type": "code",
   "execution_count": 30,
   "id": "a18e0a2a",
   "metadata": {},
   "outputs": [],
   "source": [
    "g = np.bitwise_xor(*x.T)[:, None]"
   ]
  },
  {
   "cell_type": "code",
   "execution_count": 31,
   "id": "59f57f07",
   "metadata": {},
   "outputs": [],
   "source": [
    "def plot(x, g, y=None):\n",
    "    fig, axs = plt.subplots(nrows=3 + (y is not None))\n",
    "    \n",
    "    \n",
    "    axs[0].bar(range(n), x[:, 0])\n",
    "    axs[1].bar(range(n), x[:, 1])\n",
    "    axs[2].bar(range(n), g[:, 0], color='green')\n",
    "    if y is not None:\n",
    "        axs[3].bar(range(n), y[:, 0], color='red')"
   ]
  },
  {
   "cell_type": "code",
   "execution_count": 32,
   "id": "0eab68c2",
   "metadata": {},
   "outputs": [
    {
     "data": {
      "image/png": "[encoded data removed]",
      "text/plain": [
       "<Figure size 864x864 with 3 Axes>"
      ]
     },
     "metadata": {
      "needs_background": "light"
     },
     "output_type": "display_data"
    }
   ],
   "source": [
    "plot(x, g)"
   ]
  },
  {
   "cell_type": "code",
   "execution_count": null,
   "id": "3ae97171",
   "metadata": {},
   "outputs": [],
   "source": []
  },
  {
   "cell_type": "code",
   "execution_count": null,
   "id": "b6557124",
   "metadata": {},
   "outputs": [],
   "source": []
  },
  {
   "cell_type": "code",
   "execution_count": 35,
   "id": "caaa4e3c",
   "metadata": {},
   "outputs": [],
   "source": [
    "class _NetTools:\n",
    "    @staticmethod\n",
    "    def _packed_views(shapes, dtype=np.float32):    \n",
    "        sizes = [np.product(shape) for shape in shapes]\n",
    "        total_size = np.sum(sizes)\n",
    "\n",
    "        ends = np.cumsum(sizes)\n",
    "        starts = np.roll(ends, 1)\n",
    "        starts[0] = 0\n",
    "\n",
    "        packed = np.zeros(total_size, dtype=dtype)\n",
    "        views = tuple(packed[start:end].reshape(shape)\n",
    "                      for start, end, shape in zip(starts, ends, shapes))\n",
    "\n",
    "        return (packed,) + views\n",
    "\n",
    "    @staticmethod\n",
    "    def _init_weight(weight):\n",
    "        fan_in, fan_out = weight.shape\n",
    "        bound = np.sqrt(3. / fan_in)\n",
    "        weight[...] = bound * (2. * np.random.random((fan_in, fan_out)) - 1.)\n",
    "        return weight\n",
    "    \n",
    "    @staticmethod\n",
    "    def _bias(x):\n",
    "        return np.concatenate((x, np.ones(x.shape[0])[:, None]), axis=1)\n"
   ]
  },
  {
   "cell_type": "code",
   "execution_count": 37,
   "id": "c916cf41",
   "metadata": {},
   "outputs": [],
   "source": [
    "class Net(_NetTools):\n",
    "    def __init__(self, in_chans, out_chans, num_hidden=10):\n",
    "        self.parameters, self.hidden, self.visible = self._packed_views(\n",
    "            ((in_chans + 1, num_hidden), (num_hidden + 1, out_chans)))\n",
    "        self.reset_parameters()\n",
    "        \n",
    "    def reset_parameters(self):\n",
    "        self._init_weight(self.hidden)\n",
    "        self._init_weight(self.visible)\n",
    "\n",
    "    def __call__(self, x):\n",
    "        z = np.tanh(x @ self.hidden[:-1] + self.hidden[-1])\n",
    "        return z @ self.visible[:-1] + self.visible[-1]\n",
    "    \n",
    "    def error(self, x, g):\n",
    "        y = self(x)\n",
    "        return np.sum((y - g)**2) / x.size\n",
    "    \n",
    "    def grad(self, x, g):\n",
    "        grad, hidden_grad, visible_grad = self._packed_views(\n",
    "            (self.hidden.shape, self.visible.shape))\n",
    "\n",
    "        x1 = self._bias(x)\n",
    "        z = np.tanh(x1 @ self.hidden)\n",
    "        z1 = self._bias(z)\n",
    "        z_prime = 1. - z**2\n",
    "        \n",
    "        y = z1 @ self.visible\n",
    "        \n",
    "        e = y - g\n",
    "        delta = 2. * e / e.size \n",
    "        \n",
    "        visible_grad[...] = z1.T @ delta\n",
    "        delta = delta @ self.visible[:-1].T * z_prime\n",
    "\n",
    "        hidden_grad[...] = x1.T @ delta\n",
    "\n",
    "        err = np.sum(e**2) / x.size\n",
    "        return err, grad"
   ]
  },
  {
   "cell_type": "code",
   "execution_count": null,
   "id": "00382ac2",
   "metadata": {},
   "outputs": [],
   "source": []
  },
  {
   "cell_type": "code",
   "execution_count": 38,
   "id": "43822036",
   "metadata": {},
   "outputs": [],
   "source": [
    "net = Net(2, 1, num_hidden=6)"
   ]
  },
  {
   "cell_type": "code",
   "execution_count": 39,
   "id": "a1654984",
   "metadata": {},
   "outputs": [
    {
     "data": {
      "text/plain": [
       "1.378356201171875"
      ]
     },
     "execution_count": 39,
     "metadata": {},
     "output_type": "execute_result"
    }
   ],
   "source": [
    "net.error(x, g)"
   ]
  },
  {
   "cell_type": "code",
   "execution_count": 40,
   "id": "0252fb58",
   "metadata": {},
   "outputs": [
    {
     "data": {
      "text/plain": [
       "(1.3783561499669716,\n",
       " array([-0.2293,  0.051 , -0.2273, -0.4748,  0.0789, -0.4233, -0.2913,\n",
       "         0.062 , -0.4632, -0.7934,  0.2847, -0.4475, -0.5409,  0.2843,\n",
       "        -0.6792, -1.4801,  0.3902, -0.8716,  0.46  , -2.8253, -1.8024,\n",
       "        -0.6344, -1.6717,  1.6116, -3.1314], dtype=float32))"
      ]
     },
     "execution_count": 40,
     "metadata": {},
     "output_type": "execute_result"
    }
   ],
   "source": [
    "net.grad(x, g)"
   ]
  },
  {
   "cell_type": "code",
   "execution_count": 41,
   "id": "e994d852",
   "metadata": {},
   "outputs": [],
   "source": [
    "#net.parameters"
   ]
  },
  {
   "cell_type": "code",
   "execution_count": 42,
   "id": "a528ccb8",
   "metadata": {},
   "outputs": [],
   "source": [
    "#net.hidden"
   ]
  },
  {
   "cell_type": "code",
   "execution_count": 43,
   "id": "3dd5f93c",
   "metadata": {},
   "outputs": [],
   "source": [
    "#net.visible"
   ]
  },
  {
   "cell_type": "code",
   "execution_count": 44,
   "id": "7f190b4a",
   "metadata": {},
   "outputs": [
    {
     "data": {
      "text/plain": [
       "(1000, 1)"
      ]
     },
     "execution_count": 44,
     "metadata": {},
     "output_type": "execute_result"
    }
   ],
   "source": [
    "y = net(x)\n",
    "y.shape"
   ]
  },
  {
   "cell_type": "code",
   "execution_count": null,
   "id": "d6037fa9",
   "metadata": {},
   "outputs": [],
   "source": []
  },
  {
   "cell_type": "code",
   "execution_count": 45,
   "id": "4d9c3c9b",
   "metadata": {},
   "outputs": [
    {
     "data": {
      "image/png": "[encoded data removed]",
      "text/plain": [
       "<Figure size 864x864 with 4 Axes>"
      ]
     },
     "metadata": {
      "needs_background": "light"
     },
     "output_type": "display_data"
    }
   ],
   "source": [
    "plot(x, g, y)"
   ]
  },
  {
   "cell_type": "code",
   "execution_count": 46,
   "id": "e6268b81",
   "metadata": {},
   "outputs": [],
   "source": [
    "def spopt_error(params, x, g):\n",
    "    net.parameters[...] = params\n",
    "    err, grad = net.grad(x, g)\n",
    "    print(err)\n",
    "    return err, grad"
   ]
  },
  {
   "cell_type": "code",
   "execution_count": null,
   "id": "f2303f6e",
   "metadata": {},
   "outputs": [],
   "source": []
  },
  {
   "cell_type": "code",
   "execution_count": 47,
   "id": "1828592b",
   "metadata": {},
   "outputs": [],
   "source": [
    "##sp.optimize.minimize?"
   ]
  },
  {
   "cell_type": "code",
   "execution_count": 48,
   "id": "aafdc498",
   "metadata": {},
   "outputs": [
    {
     "name": "stdout",
     "output_type": "stream",
     "text": [
      "0.2249516317348317\n",
      "0.749686024181379\n",
      "0.18602783688897956\n",
      "0.16669264677888668\n",
      "0.12674736315866875\n",
      "0.11524599253516689\n",
      "0.10499756602948859\n",
      "0.09293015699603671\n",
      "0.07207960832061085\n",
      "0.0839637728395262\n",
      "0.049529813072277835\n",
      "0.041434235685772675\n",
      "0.03524832392944933\n",
      "0.022405079285357465\n",
      "0.020987902825574827\n",
      "0.00978294940966939\n",
      "0.026621792769433425\n",
      "0.009446500626489511\n",
      "0.00879352126875548\n",
      "0.007881544066616371\n",
      "0.00607724790466135\n",
      "0.004633198586869335\n",
      "0.0034414591854932484\n",
      "0.00400207117293365\n",
      "0.002651904182404856\n",
      "0.0013779543937224197\n",
      "0.0005230839330839057\n",
      "0.0001796008680829034\n",
      "0.0001892617050696272\n",
      "9.497190447834125e-05\n",
      "3.0332176891777024e-05\n",
      "0.00018817466785004173\n",
      "1.2784156321329604e-05\n",
      "0.00019895921770300535\n",
      "1.8693463989186708e-05\n",
      "1.2627120876779944e-05\n",
      "1.2400767552851286e-05\n",
      "1.2017281295262362e-05\n",
      "1.0556790024014856e-05\n",
      "5.889279588141019e-06\n",
      "6.028555631515805e-06\n",
      "2.1965548624898606e-06\n",
      "5.024947723361142e-06\n",
      "2.2869718228010651e-07\n",
      "3.0269402965717795e-07\n",
      "2.290742543554674e-07\n",
      "2.2612792550394185e-07\n",
      "2.235623773682795e-07\n",
      "2.136054293310277e-07\n",
      "1.793339783407875e-07\n",
      "1.3188972621089607e-07\n",
      "1.683680168821855e-07\n",
      "1.1757259073651583e-07\n",
      "1.0361658209227283e-07\n",
      "5.737708576352476e-08\n",
      "2.752147547664603e-08\n",
      "1.0654074892292673e-08\n",
      "1.082169106589091e-07\n",
      "8.483360163751327e-09\n",
      "4.717361488866094e-09\n",
      "1.2711714547921072e-09\n"
     ]
    }
   ],
   "source": [
    "net.reset_parameters()\n",
    "\n",
    "result = sp.optimize.minimize(\n",
    "    spopt_error, net.parameters,\n",
    "    args=(x, g),\n",
    "    method='CG',\n",
    "    jac=True,\n",
    "    tol=1e-4,\n",
    "    options={'maxiter': 100},\n",
    ")"
   ]
  },
  {
   "cell_type": "code",
   "execution_count": 49,
   "id": "2dce4988",
   "metadata": {},
   "outputs": [
    {
     "data": {
      "text/plain": [
       "     fun: 1.2711714547921072e-09\n",
       "     jac: array([ 1.0040e-05, -1.6664e-06, -3.6589e-07,  2.0140e-05, -3.6677e-05,\n",
       "        2.5756e-07, -2.7296e-05, -7.8605e-06, -1.8732e-07,  2.4780e-06,\n",
       "       -1.8817e-05, -2.5505e-06, -3.6573e-05, -2.6643e-05,  3.7276e-07,\n",
       "       -1.9522e-05,  4.5478e-06, -6.9609e-06, -1.5861e-05,  1.3498e-05,\n",
       "       -4.2683e-06,  1.4059e-05,  2.7304e-05,  8.7156e-06,  9.1627e-06],\n",
       "      dtype=float32)\n",
       " message: 'Optimization terminated successfully.'\n",
       "    nfev: 61\n",
       "     nit: 25\n",
       "    njev: 61\n",
       "  status: 0\n",
       " success: True\n",
       "       x: array([ 1.711 , -1.0342, -0.1345, -0.7378, -0.2126, -1.073 , -1.1921,\n",
       "       -0.8725, -0.135 ,  0.1656, -0.9639, -0.4743,  1.0788,  0.0186,\n",
       "       -0.8966, -0.1569,  0.8161, -0.2904, -1.687 , -0.9597,  0.0461,\n",
       "       -1.0853,  1.3769, -0.2736,  0.2154], dtype=float32)"
      ]
     },
     "execution_count": 49,
     "metadata": {},
     "output_type": "execute_result"
    }
   ],
   "source": [
    "result"
   ]
  },
  {
   "cell_type": "code",
   "execution_count": 50,
   "id": "524c176a",
   "metadata": {},
   "outputs": [
    {
     "data": {
      "image/png": "[encoded data removed]",
      "text/plain": [
       "<Figure size 864x864 with 4 Axes>"
      ]
     },
     "metadata": {
      "needs_background": "light"
     },
     "output_type": "display_data"
    }
   ],
   "source": [
    "y = net(x)\n",
    "plot(x, g, y)"
   ]
  },
  {
   "cell_type": "code",
   "execution_count": null,
   "id": "f9a226ca",
   "metadata": {},
   "outputs": [],
   "source": []
  },
  {
   "cell_type": "code",
   "execution_count": null,
   "id": "45af0986",
   "metadata": {},
   "outputs": [],
   "source": []
  },
  {
   "cell_type": "code",
   "execution_count": 51,
   "id": "f216424d",
   "metadata": {},
   "outputs": [],
   "source": [
    "def alopex(net, *args, step_size=0.005, forget_factor=0.01, max_iter=1_000, eps=1e-8):\n",
    "    '''ALgorithm Of Pattern EXtraction (ALOPEX) 99/B version.\n",
    "    '''\n",
    "    # view into all of the network parameters\n",
    "    params = net.parameters\n",
    "    \n",
    "    # initial error\n",
    "    error = net.error(*args)\n",
    "    error_prev = error\n",
    "    error_hist = [error,]\n",
    "    \n",
    "    # exponentially weighted, running average of the\n",
    "    # magnitude of the correlation\n",
    "    corr_run = 0.\n",
    "    \n",
    "    # probability of taking a negative step\n",
    "    probs = np.ones_like(params) * 0.5\n",
    "    \n",
    "    for i in (pbar := tqdm.trange(max_iter, desc='iteration')):\n",
    "        # draw random steps based on probability of taking\n",
    "        # a step in the negative direction\n",
    "        draw = np.random.random(params.shape)\n",
    "        dw = np.where(draw < probs, -step_size, step_size)\n",
    "        params += dw\n",
    "\n",
    "        # compute the error\n",
    "        error_prev = error\n",
    "        error = net.error(*args)\n",
    "        error_hist.append(error)\n",
    "        \n",
    "        # current change in error\n",
    "        de = error - error_prev\n",
    "        \n",
    "        # update the running average of the correlation\n",
    "        corr_mag = np.abs(de) * np.mean(np.abs(dw))\n",
    "        corr_run = (((1. - forget_factor) * corr_run) + (forget_factor * corr_mag))\n",
    "        corr_run = max(corr_run, eps)\n",
    "        \n",
    "        # add error and running correlation to the progress bar\n",
    "        pbar.set_postfix({'err': error, 'corr': corr_run})\n",
    "\n",
    "        # correlation metric\n",
    "        corr = de * dw\n",
    "\n",
    "        # probability of taking negative step\n",
    "        # is drawn from the Boltzman Distribution\n",
    "        probs[...] = 1. / (1. + np.exp(-corr / corr_run))\n",
    "\n",
    "    return munch.Munch(\n",
    "        error_hist=error_hist,\n",
    "    )"
   ]
  },
  {
   "cell_type": "code",
   "execution_count": 53,
   "id": "a2a72737",
   "metadata": {},
   "outputs": [
    {
     "data": {
      "application/vnd.jupyter.widget-view+json": {
       "model_id": "bd33bdc795a14a7f868f593361609299",
       "version_major": 2,
       "version_minor": 0
      },
      "text/plain": [
       "iteration:   0%|          | 0/1500 [00:00<?, ?it/s]"
      ]
     },
     "metadata": {},
     "output_type": "display_data"
    }
   ],
   "source": [
    "net.reset_parameters()\n",
    "\n",
    "result = alopex(net, x, g, max_iter=1500)"
   ]
  },
  {
   "cell_type": "code",
   "execution_count": 54,
   "id": "66fcecde",
   "metadata": {},
   "outputs": [
    {
     "data": {
      "image/png": "[encoded data removed]",
      "text/plain": [
       "<Figure size 864x864 with 1 Axes>"
      ]
     },
     "metadata": {
      "needs_background": "light"
     },
     "output_type": "display_data"
    }
   ],
   "source": [
    "plt.plot(result.error_hist);\n",
    "plt.grid();"
   ]
  },
  {
   "cell_type": "code",
   "execution_count": 55,
   "id": "212c0b4d",
   "metadata": {},
   "outputs": [
    {
     "data": {
      "image/png": "[encoded data removed]",
      "text/plain": [
       "<Figure size 864x864 with 4 Axes>"
      ]
     },
     "metadata": {
      "needs_background": "light"
     },
     "output_type": "display_data"
    }
   ],
   "source": [
    "plot(x, g, y)"
   ]
  },
  {
   "cell_type": "code",
   "execution_count": null,
   "id": "d69378f0",
   "metadata": {},
   "outputs": [],
   "source": []
  },
  {
   "cell_type": "code",
   "execution_count": null,
   "id": "e3fa4770",
   "metadata": {},
   "outputs": [],
   "source": []
  },
  {
   "cell_type": "code",
   "execution_count": null,
   "id": "34953990",
   "metadata": {},
   "outputs": [],
   "source": []
  },
  {
   "cell_type": "code",
   "execution_count": null,
   "id": "0a6675dd",
   "metadata": {},
   "outputs": [],
   "source": []
  },
  {
   "cell_type": "code",
   "execution_count": null,
   "id": "7643cecd",
   "metadata": {},
   "outputs": [],
   "source": []
  },
  {
   "cell_type": "code",
   "execution_count": null,
   "id": "c2b0c97e",
   "metadata": {},
   "outputs": [],
   "source": []
  },
  {
   "cell_type": "code",
   "execution_count": null,
   "id": "593eac0f",
   "metadata": {},
   "outputs": [],
   "source": []
  }
 ],
 "metadata": {
  "kernelspec": {
   "display_name": "Python 3 (ipykernel)",
   "language": "python",
   "name": "python3"
  },
  "language_info": {
   "codemirror_mode": {
    "name": "ipython",
    "version": 3
   },
   "file_extension": ".py",
   "mimetype": "text/x-python",
   "name": "python",
   "nbconvert_exporter": "python",
   "pygments_lexer": "ipython3",
   "version": "3.10.10"
  }
 },
 "nbformat": 4,
 "nbformat_minor": 5
}
