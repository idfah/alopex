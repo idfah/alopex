{
 "cells": [
  {
   "cell_type": "markdown",
   "id": "b44e5f98",
   "metadata": {},
   "source": [
    "# Alopex for solving MNIST with MLP in PyTorch"
   ]
  },
  {
   "cell_type": "code",
   "execution_count": 1,
   "id": "bbaec2fc",
   "metadata": {},
   "outputs": [],
   "source": [
    "import matplotlib\n",
    "%matplotlib inline\n",
    "matplotlib.rcParams['figure.figsize'] = (12, 12)"
   ]
  },
  {
   "cell_type": "code",
   "execution_count": 2,
   "id": "73a9a5ef",
   "metadata": {},
   "outputs": [],
   "source": [
    "import collections\n",
    "import gzip\n",
    "import itertools\n",
    "import random\n",
    "import struct\n",
    "\n",
    "import tqdm.notebook as tqdm\n",
    "import munch\n",
    "\n",
    "import matplotlib.pyplot as plt\n",
    "import numpy as np\n",
    "\n",
    "import skimage as ski\n",
    "\n",
    "import torch as th"
   ]
  },
  {
   "cell_type": "code",
   "execution_count": null,
   "id": "d1afaf92",
   "metadata": {},
   "outputs": [],
   "source": []
  },
  {
   "cell_type": "code",
   "execution_count": 3,
   "id": "52b5969e",
   "metadata": {},
   "outputs": [],
   "source": [
    "class MNIST(th.utils.data.Dataset):\n",
    "    def __init__(self, partition='train'):\n",
    "        super().__init__()\n",
    "        \n",
    "        self.images, self.labels = self._load_mnist(partition=partition)\n",
    "        \n",
    "    @staticmethod\n",
    "    def _load_mnist(partition):\n",
    "        if partition == 'train':\n",
    "            file_prefix = 'train'\n",
    "        elif partition == 'test':\n",
    "            file_prefix = 't10k'\n",
    "        else:\n",
    "            raise ValueError(f'Invalid parition: {parition}')\n",
    "    \n",
    "        # thanks:\n",
    "        # https://stackoverflow.com/questions/39969045/parsing-yann-lecuns-mnist-idx-file-format\n",
    "        with gzip.open(f'../data/torchvision/MNIST/raw/{file_prefix}-images-idx3-ubyte.gz', mode='rb') as fh:\n",
    "            _magic, size = struct.unpack('>II', fh.read(8))\n",
    "            nrows, ncols = struct.unpack('>II', fh.read(8))\n",
    "            data = np.frombuffer(fh.read(), dtype=np.dtype(np.uint8).newbyteorder('>')).copy()\n",
    "            imgs = data.reshape((size, 1, nrows, ncols)) / 255.\n",
    "\n",
    "        with gzip.open(f'../data/torchvision/MNIST/raw/{file_prefix}-labels-idx1-ubyte.gz', mode='rb') as fh:\n",
    "            _magic, _size = struct.unpack('>II', fh.read(8))\n",
    "            labels = np.frombuffer(fh.read(), dtype=np.dtype(np.uint8).newbyteorder('>')).copy()\n",
    "\n",
    "        return th.as_tensor(imgs, dtype=th.float32), th.as_tensor(labels, dtype=th.int64)\n",
    "    \n",
    "    def __getitem__(self, idx):\n",
    "        return self.images[idx], self.labels[idx]\n",
    "    \n",
    "    def __len__(self):\n",
    "        return len(self.images)\n",
    "    \n",
    "    def plot_montage(self, n=36):\n",
    "        #rng = random.Random(seed)\n",
    "        #idxs = rng.sample(range(len(self)), n)\n",
    "        idxs = range(n)\n",
    "        \n",
    "        imgs = np.moveaxis(self.images[idxs].numpy(), 1, -1)\n",
    "\n",
    "        montage = ski.util.montage(imgs, channel_axis=-1)\n",
    "\n",
    "        fig, ax = plt.subplots()\n",
    "        ax.imshow(montage, cmap=plt.cm.gray)\n",
    "        ax.axis('off')"
   ]
  },
  {
   "cell_type": "code",
   "execution_count": 4,
   "id": "a3f8d750",
   "metadata": {},
   "outputs": [
    {
     "data": {
      "text/plain": [
       "60000"
      ]
     },
     "execution_count": 4,
     "metadata": {},
     "output_type": "execute_result"
    }
   ],
   "source": [
    "train_data = MNIST(partition='train')\n",
    "len(train_data)"
   ]
  },
  {
   "cell_type": "code",
   "execution_count": 5,
   "id": "464ae38a",
   "metadata": {},
   "outputs": [
    {
     "data": {
      "text/plain": [
       "10000"
      ]
     },
     "execution_count": 5,
     "metadata": {},
     "output_type": "execute_result"
    }
   ],
   "source": [
    "test_data = MNIST(partition='test')\n",
    "len(test_data)"
   ]
  },
  {
   "cell_type": "code",
   "execution_count": 6,
   "id": "58742c4d",
   "metadata": {},
   "outputs": [
    {
     "data": {
      "image/png": "[encoded data removed]",
      "text/plain": [
       "<Figure size 864x864 with 1 Axes>"
      ]
     },
     "metadata": {
      "needs_background": "light"
     },
     "output_type": "display_data"
    }
   ],
   "source": [
    "train_data.plot_montage()"
   ]
  },
  {
   "cell_type": "code",
   "execution_count": null,
   "id": "bd0bf1eb",
   "metadata": {},
   "outputs": [],
   "source": []
  },
  {
   "cell_type": "code",
   "execution_count": 7,
   "id": "223cd981",
   "metadata": {},
   "outputs": [
    {
     "data": {
      "text/plain": [
       "(torch.Size([1, 28, 28]), torch.Size([]))"
      ]
     },
     "execution_count": 7,
     "metadata": {},
     "output_type": "execute_result"
    }
   ],
   "source": [
    "image, label = train_data[0]\n",
    "image.shape, label.shape"
   ]
  },
  {
   "cell_type": "code",
   "execution_count": 8,
   "id": "c11f6661",
   "metadata": {},
   "outputs": [
    {
     "data": {
      "text/plain": [
       "(tensor([0.1307]), tensor([0.3081]))"
      ]
     },
     "execution_count": 8,
     "metadata": {},
     "output_type": "execute_result"
    }
   ],
   "source": [
    "train_data.images.mean(dim=(0, 2, 3)), train_data.images.std(dim=(0, 2, 3))"
   ]
  },
  {
   "cell_type": "code",
   "execution_count": 9,
   "id": "6e97d994",
   "metadata": {},
   "outputs": [],
   "source": [
    "class _Tanh(th.nn.Module):\n",
    "    _two_thirds = 2. / 3.\n",
    "    def forward(self, x):\n",
    "        return 1.7159 * th.tanh(self._two_thirds * x)"
   ]
  },
  {
   "cell_type": "code",
   "execution_count": 10,
   "id": "3395cc45",
   "metadata": {},
   "outputs": [],
   "source": [
    "class _Linear(th.nn.Linear):\n",
    "    def reset_parameters(self):\n",
    "        th.nn.init.kaiming_uniform_(self.weight, nonlinearity='linear')\n",
    "        if getattr(self, 'bias', None) is not None:\n",
    "            th.nn.init.zeros_(self.bias)"
   ]
  },
  {
   "cell_type": "code",
   "execution_count": 11,
   "id": "358154fe",
   "metadata": {},
   "outputs": [],
   "source": [
    "class MLP(th.nn.Module):\n",
    "    def __init__(self, in_shape=(1, 28, 28), num_classes=10, num_hiddens=(128,)):\n",
    "        super().__init__()\n",
    "        \n",
    "        in_chans = 1\n",
    "        for d in in_shape:\n",
    "            in_chans *= d\n",
    "            \n",
    "        self.hidden = th.nn.Sequential(th.nn.Flatten())\n",
    "        layer_in, layer_out = None, in_chans\n",
    "        for num_hidden in num_hiddens:\n",
    "            layer_in, layer_out = layer_out, num_hidden\n",
    "            self.hidden.append(\n",
    "                th.nn.Sequential(\n",
    "                    _Linear(layer_in, layer_out),\n",
    "                    #_Tanh(),\n",
    "                    th.nn.Tanh(),\n",
    "                )\n",
    "            )\n",
    "            \n",
    "        self.visible = _Linear(layer_out, num_classes)\n",
    "        \n",
    "    def forward(self, imgs):\n",
    "        return self.visible(self.hidden(imgs))\n",
    "    \n",
    "    @th.no_grad()\n",
    "    def predict(self, imgs):\n",
    "        logits = th.softmax(self(imgs), dim=1)\n",
    "        return th.argmax(logits, dim=1)"
   ]
  },
  {
   "cell_type": "code",
   "execution_count": 12,
   "id": "1b9076fc",
   "metadata": {},
   "outputs": [],
   "source": [
    "model = MLP()"
   ]
  },
  {
   "cell_type": "code",
   "execution_count": 13,
   "id": "3a541325",
   "metadata": {},
   "outputs": [
    {
     "data": {
      "text/plain": [
       "(torch.Size([32, 10]), tensor(-0.0352), tensor(0.2730))"
      ]
     },
     "execution_count": 13,
     "metadata": {},
     "output_type": "execute_result"
    }
   ],
   "source": [
    "with th.no_grad():\n",
    "    preds = model(train_data.images[:32])\n",
    "preds.shape, preds.mean(), preds.std()"
   ]
  },
  {
   "cell_type": "code",
   "execution_count": 14,
   "id": "4d2f4e8b",
   "metadata": {},
   "outputs": [
    {
     "data": {
      "text/plain": [
       "MLP(\n",
       "  (hidden): Sequential(\n",
       "    (0): Flatten(start_dim=1, end_dim=-1)\n",
       "    (1): Sequential(\n",
       "      (0): _Linear(in_features=784, out_features=128, bias=True)\n",
       "      (1): Tanh()\n",
       "    )\n",
       "  )\n",
       "  (visible): _Linear(in_features=128, out_features=10, bias=True)\n",
       ")"
      ]
     },
     "execution_count": 14,
     "metadata": {},
     "output_type": "execute_result"
    }
   ],
   "source": [
    "model"
   ]
  },
  {
   "cell_type": "code",
   "execution_count": 15,
   "id": "ea0d4856",
   "metadata": {},
   "outputs": [
    {
     "name": "stdout",
     "output_type": "stream",
     "text": [
      "free parameters: 101770\n"
     ]
    }
   ],
   "source": [
    "print('free parameters:',\n",
    "      sum(params.numel() for params in model.parameters() if params.requires_grad))"
   ]
  },
  {
   "cell_type": "markdown",
   "id": "2fea0782",
   "metadata": {},
   "source": [
    "## Training with Adam"
   ]
  },
  {
   "cell_type": "code",
   "execution_count": 16,
   "id": "ff7deb2b",
   "metadata": {},
   "outputs": [],
   "source": [
    "def train_adam(model, data, epochs=30, batch_size=256, lr=0.001, lr_decay=0.98,\n",
    "               device=0, num_workers=0):\n",
    "    \n",
    "    model.to(device)\n",
    "    model.train()\n",
    "    \n",
    "    opt = th.optim.Adam(model.parameters(), lr=lr)\n",
    "    sched = th.optim.lr_scheduler.ExponentialLR(opt, gamma=lr_decay)\n",
    "    \n",
    "    dataloader = th.utils.data.DataLoader(\n",
    "        data,\n",
    "        batch_size=batch_size,\n",
    "        shuffle=True,\n",
    "        drop_last=True,\n",
    "        num_workers=num_workers,\n",
    "        pin_memory=True,\n",
    "    )\n",
    "    \n",
    "    losses = []\n",
    "\n",
    "    for epoch in tqdm.trange(epochs, desc='epoch', leave=True):\n",
    "        for images, labels in tqdm.tqdm(dataloader, desc='batch', leave=False):\n",
    "            images = images.to(device=device, non_blocking=True)\n",
    "            labels = labels.to(device=device, non_blocking=True)\n",
    "            \n",
    "            preds = model(images)\n",
    "            loss = th.nn.functional.cross_entropy(preds, labels)\n",
    "            losses.append(loss.item())\n",
    "\n",
    "            opt.zero_grad()\n",
    "            loss.backward()\n",
    "            opt.step()\n",
    "            \n",
    "        sched.step()\n",
    "        \n",
    "    model.eval()\n",
    "    model.cpu()\n",
    "    \n",
    "    return munch.Munch(\n",
    "        losses=losses,\n",
    "    )"
   ]
  },
  {
   "cell_type": "code",
   "execution_count": 17,
   "id": "a631c1ac",
   "metadata": {},
   "outputs": [
    {
     "data": {
      "application/vnd.jupyter.widget-view+json": {
       "model_id": "2f96066da52141b6963e0f33755ff7e9",
       "version_major": 2,
       "version_minor": 0
      },
      "text/plain": [
       "epoch:   0%|          | 0/30 [00:00<?, ?it/s]"
      ]
     },
     "metadata": {},
     "output_type": "display_data"
    },
    {
     "data": {
      "application/vnd.jupyter.widget-view+json": {
       "model_id": "",
       "version_major": 2,
       "version_minor": 0
      },
      "text/plain": [
       "batch:   0%|          | 0/234 [00:00<?, ?it/s]"
      ]
     },
     "metadata": {},
     "output_type": "display_data"
    },
    {
     "data": {
      "application/vnd.jupyter.widget-view+json": {
       "model_id": "",
       "version_major": 2,
       "version_minor": 0
      },
      "text/plain": [
       "batch:   0%|          | 0/234 [00:00<?, ?it/s]"
      ]
     },
     "metadata": {},
     "output_type": "display_data"
    },
    {
     "data": {
      "application/vnd.jupyter.widget-view+json": {
       "model_id": "",
       "version_major": 2,
       "version_minor": 0
      },
      "text/plain": [
       "batch:   0%|          | 0/234 [00:00<?, ?it/s]"
      ]
     },
     "metadata": {},
     "output_type": "display_data"
    },
    {
     "data": {
      "application/vnd.jupyter.widget-view+json": {
       "model_id": "",
       "version_major": 2,
       "version_minor": 0
      },
      "text/plain": [
       "batch:   0%|          | 0/234 [00:00<?, ?it/s]"
      ]
     },
     "metadata": {},
     "output_type": "display_data"
    },
    {
     "data": {
      "application/vnd.jupyter.widget-view+json": {
       "model_id": "",
       "version_major": 2,
       "version_minor": 0
      },
      "text/plain": [
       "batch:   0%|          | 0/234 [00:00<?, ?it/s]"
      ]
     },
     "metadata": {},
     "output_type": "display_data"
    },
    {
     "data": {
      "application/vnd.jupyter.widget-view+json": {
       "model_id": "",
       "version_major": 2,
       "version_minor": 0
      },
      "text/plain": [
       "batch:   0%|          | 0/234 [00:00<?, ?it/s]"
      ]
     },
     "metadata": {},
     "output_type": "display_data"
    },
    {
     "data": {
      "application/vnd.jupyter.widget-view+json": {
       "model_id": "",
       "version_major": 2,
       "version_minor": 0
      },
      "text/plain": [
       "batch:   0%|          | 0/234 [00:00<?, ?it/s]"
      ]
     },
     "metadata": {},
     "output_type": "display_data"
    },
    {
     "data": {
      "application/vnd.jupyter.widget-view+json": {
       "model_id": "",
       "version_major": 2,
       "version_minor": 0
      },
      "text/plain": [
       "batch:   0%|          | 0/234 [00:00<?, ?it/s]"
      ]
     },
     "metadata": {},
     "output_type": "display_data"
    },
    {
     "data": {
      "application/vnd.jupyter.widget-view+json": {
       "model_id": "",
       "version_major": 2,
       "version_minor": 0
      },
      "text/plain": [
       "batch:   0%|          | 0/234 [00:00<?, ?it/s]"
      ]
     },
     "metadata": {},
     "output_type": "display_data"
    },
    {
     "data": {
      "application/vnd.jupyter.widget-view+json": {
       "model_id": "",
       "version_major": 2,
       "version_minor": 0
      },
      "text/plain": [
       "batch:   0%|          | 0/234 [00:00<?, ?it/s]"
      ]
     },
     "metadata": {},
     "output_type": "display_data"
    },
    {
     "data": {
      "application/vnd.jupyter.widget-view+json": {
       "model_id": "",
       "version_major": 2,
       "version_minor": 0
      },
      "text/plain": [
       "batch:   0%|          | 0/234 [00:00<?, ?it/s]"
      ]
     },
     "metadata": {},
     "output_type": "display_data"
    },
    {
     "data": {
      "application/vnd.jupyter.widget-view+json": {
       "model_id": "",
       "version_major": 2,
       "version_minor": 0
      },
      "text/plain": [
       "batch:   0%|          | 0/234 [00:00<?, ?it/s]"
      ]
     },
     "metadata": {},
     "output_type": "display_data"
    },
    {
     "data": {
      "application/vnd.jupyter.widget-view+json": {
       "model_id": "",
       "version_major": 2,
       "version_minor": 0
      },
      "text/plain": [
       "batch:   0%|          | 0/234 [00:00<?, ?it/s]"
      ]
     },
     "metadata": {},
     "output_type": "display_data"
    },
    {
     "data": {
      "application/vnd.jupyter.widget-view+json": {
       "model_id": "",
       "version_major": 2,
       "version_minor": 0
      },
      "text/plain": [
       "batch:   0%|          | 0/234 [00:00<?, ?it/s]"
      ]
     },
     "metadata": {},
     "output_type": "display_data"
    },
    {
     "data": {
      "application/vnd.jupyter.widget-view+json": {
       "model_id": "",
       "version_major": 2,
       "version_minor": 0
      },
      "text/plain": [
       "batch:   0%|          | 0/234 [00:00<?, ?it/s]"
      ]
     },
     "metadata": {},
     "output_type": "display_data"
    },
    {
     "data": {
      "application/vnd.jupyter.widget-view+json": {
       "model_id": "",
       "version_major": 2,
       "version_minor": 0
      },
      "text/plain": [
       "batch:   0%|          | 0/234 [00:00<?, ?it/s]"
      ]
     },
     "metadata": {},
     "output_type": "display_data"
    },
    {
     "data": {
      "application/vnd.jupyter.widget-view+json": {
       "model_id": "",
       "version_major": 2,
       "version_minor": 0
      },
      "text/plain": [
       "batch:   0%|          | 0/234 [00:00<?, ?it/s]"
      ]
     },
     "metadata": {},
     "output_type": "display_data"
    },
    {
     "data": {
      "application/vnd.jupyter.widget-view+json": {
       "model_id": "",
       "version_major": 2,
       "version_minor": 0
      },
      "text/plain": [
       "batch:   0%|          | 0/234 [00:00<?, ?it/s]"
      ]
     },
     "metadata": {},
     "output_type": "display_data"
    },
    {
     "data": {
      "application/vnd.jupyter.widget-view+json": {
       "model_id": "",
       "version_major": 2,
       "version_minor": 0
      },
      "text/plain": [
       "batch:   0%|          | 0/234 [00:00<?, ?it/s]"
      ]
     },
     "metadata": {},
     "output_type": "display_data"
    },
    {
     "data": {
      "application/vnd.jupyter.widget-view+json": {
       "model_id": "",
       "version_major": 2,
       "version_minor": 0
      },
      "text/plain": [
       "batch:   0%|          | 0/234 [00:00<?, ?it/s]"
      ]
     },
     "metadata": {},
     "output_type": "display_data"
    },
    {
     "data": {
      "application/vnd.jupyter.widget-view+json": {
       "model_id": "",
       "version_major": 2,
       "version_minor": 0
      },
      "text/plain": [
       "batch:   0%|          | 0/234 [00:00<?, ?it/s]"
      ]
     },
     "metadata": {},
     "output_type": "display_data"
    },
    {
     "data": {
      "application/vnd.jupyter.widget-view+json": {
       "model_id": "",
       "version_major": 2,
       "version_minor": 0
      },
      "text/plain": [
       "batch:   0%|          | 0/234 [00:00<?, ?it/s]"
      ]
     },
     "metadata": {},
     "output_type": "display_data"
    },
    {
     "data": {
      "application/vnd.jupyter.widget-view+json": {
       "model_id": "",
       "version_major": 2,
       "version_minor": 0
      },
      "text/plain": [
       "batch:   0%|          | 0/234 [00:00<?, ?it/s]"
      ]
     },
     "metadata": {},
     "output_type": "display_data"
    },
    {
     "data": {
      "application/vnd.jupyter.widget-view+json": {
       "model_id": "",
       "version_major": 2,
       "version_minor": 0
      },
      "text/plain": [
       "batch:   0%|          | 0/234 [00:00<?, ?it/s]"
      ]
     },
     "metadata": {},
     "output_type": "display_data"
    },
    {
     "data": {
      "application/vnd.jupyter.widget-view+json": {
       "model_id": "",
       "version_major": 2,
       "version_minor": 0
      },
      "text/plain": [
       "batch:   0%|          | 0/234 [00:00<?, ?it/s]"
      ]
     },
     "metadata": {},
     "output_type": "display_data"
    },
    {
     "data": {
      "application/vnd.jupyter.widget-view+json": {
       "model_id": "",
       "version_major": 2,
       "version_minor": 0
      },
      "text/plain": [
       "batch:   0%|          | 0/234 [00:00<?, ?it/s]"
      ]
     },
     "metadata": {},
     "output_type": "display_data"
    },
    {
     "data": {
      "application/vnd.jupyter.widget-view+json": {
       "model_id": "",
       "version_major": 2,
       "version_minor": 0
      },
      "text/plain": [
       "batch:   0%|          | 0/234 [00:00<?, ?it/s]"
      ]
     },
     "metadata": {},
     "output_type": "display_data"
    },
    {
     "data": {
      "application/vnd.jupyter.widget-view+json": {
       "model_id": "",
       "version_major": 2,
       "version_minor": 0
      },
      "text/plain": [
       "batch:   0%|          | 0/234 [00:00<?, ?it/s]"
      ]
     },
     "metadata": {},
     "output_type": "display_data"
    },
    {
     "data": {
      "application/vnd.jupyter.widget-view+json": {
       "model_id": "",
       "version_major": 2,
       "version_minor": 0
      },
      "text/plain": [
       "batch:   0%|          | 0/234 [00:00<?, ?it/s]"
      ]
     },
     "metadata": {},
     "output_type": "display_data"
    },
    {
     "data": {
      "application/vnd.jupyter.widget-view+json": {
       "model_id": "",
       "version_major": 2,
       "version_minor": 0
      },
      "text/plain": [
       "batch:   0%|          | 0/234 [00:00<?, ?it/s]"
      ]
     },
     "metadata": {},
     "output_type": "display_data"
    }
   ],
   "source": [
    "adam_result = train_adam(model, train_data, epochs=30)"
   ]
  },
  {
   "cell_type": "code",
   "execution_count": 18,
   "id": "e0270995",
   "metadata": {},
   "outputs": [
    {
     "data": {
      "image/png": "[encoded data removed]",
      "text/plain": [
       "<Figure size 864x864 with 1 Axes>"
      ]
     },
     "metadata": {
      "needs_background": "light"
     },
     "output_type": "display_data"
    }
   ],
   "source": [
    "plt.plot(adam_result.losses);\n",
    "plt.grid();"
   ]
  },
  {
   "cell_type": "code",
   "execution_count": 19,
   "id": "9dfefdcd",
   "metadata": {},
   "outputs": [
    {
     "data": {
      "text/plain": [
       "tensor([[7, 2, 1, 0, 4, 1],\n",
       "        [4, 9, 5, 9, 0, 6],\n",
       "        [9, 0, 1, 5, 9, 7],\n",
       "        [3, 4, 9, 6, 6, 5],\n",
       "        [4, 0, 7, 4, 0, 1],\n",
       "        [3, 1, 3, 4, 7, 2]])"
      ]
     },
     "execution_count": 19,
     "metadata": {},
     "output_type": "execute_result"
    }
   ],
   "source": [
    "test_data.labels[:36].view(6, 6)"
   ]
  },
  {
   "cell_type": "code",
   "execution_count": 20,
   "id": "7782c522",
   "metadata": {},
   "outputs": [
    {
     "data": {
      "text/plain": [
       "tensor([[7, 2, 1, 0, 4, 1],\n",
       "        [4, 9, 5, 9, 0, 6],\n",
       "        [9, 0, 1, 5, 9, 7],\n",
       "        [3, 4, 9, 6, 6, 5],\n",
       "        [4, 0, 7, 4, 0, 1],\n",
       "        [3, 1, 3, 4, 7, 2]])"
      ]
     },
     "execution_count": 20,
     "metadata": {},
     "output_type": "execute_result"
    }
   ],
   "source": [
    "preds = model.predict(test_data.images)\n",
    "preds[:36].view(6, 6)"
   ]
  },
  {
   "cell_type": "code",
   "execution_count": 21,
   "id": "303232db",
   "metadata": {},
   "outputs": [
    {
     "data": {
      "image/png": "[encoded data removed]",
      "text/plain": [
       "<Figure size 864x864 with 1 Axes>"
      ]
     },
     "metadata": {
      "needs_background": "light"
     },
     "output_type": "display_data"
    }
   ],
   "source": [
    "test_data.plot_montage(36)"
   ]
  },
  {
   "cell_type": "code",
   "execution_count": 22,
   "id": "3dddb270",
   "metadata": {},
   "outputs": [],
   "source": [
    "def accuracy(y, g):\n",
    "    return (y == g).to(th.float32).mean()"
   ]
  },
  {
   "cell_type": "code",
   "execution_count": 23,
   "id": "0546cef8",
   "metadata": {},
   "outputs": [
    {
     "data": {
      "text/plain": [
       "tensor(0.9794)"
      ]
     },
     "execution_count": 23,
     "metadata": {},
     "output_type": "execute_result"
    }
   ],
   "source": [
    "accuracy(preds, test_data.labels)"
   ]
  },
  {
   "cell_type": "markdown",
   "id": "4b24044d",
   "metadata": {},
   "source": [
    "## Training with Alopex"
   ]
  },
  {
   "cell_type": "code",
   "execution_count": null,
   "id": "bceb9843",
   "metadata": {},
   "outputs": [],
   "source": []
  },
  {
   "cell_type": "code",
   "execution_count": null,
   "id": "ab264424",
   "metadata": {},
   "outputs": [],
   "source": []
  },
  {
   "cell_type": "code",
   "execution_count": 24,
   "id": "a16b1f05",
   "metadata": {},
   "outputs": [],
   "source": [
    "class Alopex(th.optim.Optimizer):\n",
    "    '''ALgorithm Of Pattern EXtraction (ALOPEX) 99/B version.\n",
    "    '''\n",
    "    def __init__(self, params, lr=5e-3, forget_factor=0.1, eps=1e-8):\n",
    "        defaults = dict(\n",
    "            lr=lr,\n",
    "            forget_factor=forget_factor,\n",
    "            eps=eps,\n",
    "        )\n",
    "        super().__init__(params, defaults)\n",
    "        \n",
    "    def _init_group(self, group, dws):\n",
    "        for param in group['params']:\n",
    "            state = self.state[param]\n",
    "\n",
    "            # lazy state initialization\n",
    "            first_step = False\n",
    "            if len(state) <= 2:\n",
    "                state['step'] = th.zeros((1,), dtype=th.float, device=param.device)\n",
    "                state['dw'] = th.zeros_like(param)\n",
    "                first_step = True\n",
    "\n",
    "            dws.append(state['dw'])\n",
    "            return first_step\n",
    "\n",
    "    @th.no_grad()\n",
    "    def step(self, closure):\n",
    "        error = closure()\n",
    "\n",
    "        first_state = self.state[self.param_groups[0]['params'][0]]\n",
    "        if len(first_state) == 0:\n",
    "            first_state['error'] = error\n",
    "            first_state['mu'] = th.zeros((1,), dtype=th.float)\n",
    "\n",
    "        de = error - first_state['error']\n",
    "        first_state['error'] = error\n",
    "        mu = first_state['mu']\n",
    "\n",
    "        for group in self.param_groups:\n",
    "            dws = []\n",
    "\n",
    "            first_step = self._init_group(\n",
    "                group=group,\n",
    "                dws=dws,\n",
    "            )\n",
    "            \n",
    "            if first_step:\n",
    "                self._alopex_first_step(\n",
    "                    params=group['params'],\n",
    "                    lr=group['lr'],\n",
    "                    dws=dws)\n",
    "            else:\n",
    "                self._alopex_step(\n",
    "                    params=group['params'],\n",
    "                    lr=group['lr'],\n",
    "                    mu=mu,\n",
    "                    dws=dws,\n",
    "                    de=de,\n",
    "                    forget_factor=group['forget_factor'],\n",
    "                    eps=group['eps'],\n",
    "            )\n",
    "\n",
    "        return error\n",
    "    \n",
    "    @staticmethod\n",
    "    def _alopex_first_step(params, lr, dws):\n",
    "        for param, dw in zip(params, dws):\n",
    "            draw = th.rand_like(param)\n",
    "            dw[...] = th.where(draw < 0.5, -lr, lr)\n",
    "            param.add_(dw)\n",
    "    \n",
    "    @staticmethod\n",
    "    def _alopex_step(params, lr, mu, dws, de, forget_factor, eps):\n",
    "        '''\n",
    "        '''\n",
    "        corrs = []\n",
    "        corr_mag = th.zeros((1,), dtype=th.float)\n",
    "        \n",
    "        for param, dw in zip(params, dws):\n",
    "            de = de.to(dw.device)\n",
    "            corr = de * dw\n",
    "            corrs.append(corr)\n",
    "            corr_mag = corr_mag.to(param.device)\n",
    "            corr_mag.add_(th.sum(corr.abs()))\n",
    "\n",
    "        corr_mag.div_(sum(p.numel() for p in params))\n",
    "        #corr_mag.div_(len(params))\n",
    "        mu[...] = (1. - forget_factor) * mu + forget_factor * corr_mag.to(mu.device)\n",
    "        mu.clamp_(eps)\n",
    "        \n",
    "        for param, corr, dw in zip(params, corrs, dws):\n",
    "            mu = mu.to(device=param.device)\n",
    "            \n",
    "            prob = 1. / (1. + th.exp(-corr / mu))\n",
    "\n",
    "            draw = th.rand_like(param)\n",
    "            dw[...] = th.where(draw < prob, -lr, lr)\n",
    "            param.add_(dw)"
   ]
  },
  {
   "cell_type": "code",
   "execution_count": 25,
   "id": "5e47a80c",
   "metadata": {},
   "outputs": [],
   "source": [
    "def train_alopex(model, data, epochs=30, batch_size=128, lr=0.001,\n",
    "                 device=0, num_workers=0, **kwargs):\n",
    "    \n",
    "    model.to(device)\n",
    "    model.train()\n",
    "    \n",
    "    opt = Alopex(model.parameters(), lr=lr, **kwargs)\n",
    "    \n",
    "    dataloader = th.utils.data.DataLoader(\n",
    "        data,\n",
    "        batch_size=batch_size,\n",
    "        shuffle=True,\n",
    "        drop_last=True,\n",
    "        num_workers=num_workers,\n",
    "        pin_memory=True,\n",
    "    )\n",
    "    \n",
    "    losses = []\n",
    "    mus = []\n",
    "\n",
    "    for epoch in (pbar_epoch := tqdm.trange(epochs, desc='epoch', leave=True)):\n",
    "        #for images, labels in (pbar_batch := tqdm.tqdm(dataloader, desc='batch', leave=False)):\n",
    "        for images, labels in dataloader:\n",
    "            images = images.to(device=device, non_blocking=True)\n",
    "            labels = labels.to(device=device, non_blocking=True)\n",
    "            \n",
    "            def closure():\n",
    "                preds = model(images)\n",
    "                loss = th.nn.functional.cross_entropy(preds, labels, reduction='mean')\n",
    "                losses.append(loss.item())\n",
    "                return loss\n",
    "\n",
    "            opt.step(closure)\n",
    "            mus.append(opt.state[opt.param_groups[0]['params'][0]]['mu'].item())\n",
    "            \n",
    "            #pbar_batch.set_postfix({'loss': losses[-1]})\n",
    "            \n",
    "        num_batches = len(dataloader)\n",
    "        pbar_epoch.set_postfix({'loss': sum(losses[-num_batches:]) / num_batches})\n",
    "        \n",
    "    model.eval()\n",
    "    model.cpu()\n",
    "    \n",
    "    return munch.Munch(\n",
    "        losses=losses,\n",
    "        mus=mus,\n",
    "    )"
   ]
  },
  {
   "cell_type": "code",
   "execution_count": 52,
   "id": "903b9d89",
   "metadata": {},
   "outputs": [],
   "source": [
    "model = MLP()"
   ]
  },
  {
   "cell_type": "code",
   "execution_count": 53,
   "id": "ab9106c9",
   "metadata": {},
   "outputs": [
    {
     "data": {
      "application/vnd.jupyter.widget-view+json": {
       "model_id": "546a11c16a5a4cbc8f029ad4ac4c6795",
       "version_major": 2,
       "version_minor": 0
      },
      "text/plain": [
       "epoch:   0%|          | 0/3000 [00:00<?, ?it/s]"
      ]
     },
     "metadata": {},
     "output_type": "display_data"
    }
   ],
   "source": [
    "alopex_result = train_alopex(model, train_data, batch_size=1024, epochs=3000, lr=0.001, forget_factor=0.1)"
   ]
  },
  {
   "cell_type": "code",
   "execution_count": 54,
   "id": "f08648f2",
   "metadata": {},
   "outputs": [
    {
     "data": {
      "image/png": "[encoded data removed]",
      "text/plain": [
       "<Figure size 864x864 with 1 Axes>"
      ]
     },
     "metadata": {
      "needs_background": "light"
     },
     "output_type": "display_data"
    }
   ],
   "source": [
    "plt.plot(alopex_result.losses);\n",
    "plt.grid();"
   ]
  },
  {
   "cell_type": "code",
   "execution_count": 55,
   "id": "92a42308",
   "metadata": {},
   "outputs": [
    {
     "data": {
      "image/png": "[encoded data removed]",
      "text/plain": [
       "<Figure size 864x864 with 1 Axes>"
      ]
     },
     "metadata": {
      "needs_background": "light"
     },
     "output_type": "display_data"
    }
   ],
   "source": [
    "plt.plot(alopex_result.mus);\n",
    "plt.grid();"
   ]
  },
  {
   "cell_type": "code",
   "execution_count": null,
   "id": "3e136084",
   "metadata": {},
   "outputs": [],
   "source": []
  },
  {
   "cell_type": "code",
   "execution_count": 56,
   "id": "71c1e33e",
   "metadata": {},
   "outputs": [
    {
     "data": {
      "text/plain": [
       "tensor([[7, 2, 1, 0, 4, 1],\n",
       "        [4, 9, 5, 9, 0, 6],\n",
       "        [9, 0, 1, 5, 9, 7],\n",
       "        [3, 4, 9, 6, 6, 5],\n",
       "        [4, 0, 7, 4, 0, 1],\n",
       "        [3, 1, 3, 4, 7, 2]])"
      ]
     },
     "execution_count": 56,
     "metadata": {},
     "output_type": "execute_result"
    }
   ],
   "source": [
    "test_data.labels[:36].view(6, 6)"
   ]
  },
  {
   "cell_type": "code",
   "execution_count": 57,
   "id": "975b9ae4",
   "metadata": {},
   "outputs": [
    {
     "data": {
      "text/plain": [
       "tensor([[5, 0, 1, 0, 6, 5],\n",
       "        [9, 8, 6, 9, 6, 6],\n",
       "        [6, 0, 5, 0, 6, 7],\n",
       "        [7, 6, 7, 6, 0, 6],\n",
       "        [6, 6, 6, 6, 6, 6],\n",
       "        [5, 5, 8, 6, 3, 0]])"
      ]
     },
     "execution_count": 57,
     "metadata": {},
     "output_type": "execute_result"
    }
   ],
   "source": [
    "preds = model.predict(test_data.images)\n",
    "preds[:36].view(6, 6)"
   ]
  },
  {
   "cell_type": "code",
   "execution_count": 58,
   "id": "0260627e",
   "metadata": {},
   "outputs": [
    {
     "data": {
      "image/png": "[encoded data removed]",
      "text/plain": [
       "<Figure size 864x864 with 1 Axes>"
      ]
     },
     "metadata": {
      "needs_background": "light"
     },
     "output_type": "display_data"
    }
   ],
   "source": [
    "test_data.plot_montage(36)"
   ]
  },
  {
   "cell_type": "code",
   "execution_count": 59,
   "id": "1a1688c2",
   "metadata": {},
   "outputs": [],
   "source": [
    "def accuracy(y, g):\n",
    "    return (y == g).to(th.float32).mean()"
   ]
  },
  {
   "cell_type": "code",
   "execution_count": 60,
   "id": "1551b27a",
   "metadata": {},
   "outputs": [
    {
     "data": {
      "text/plain": [
       "tensor(0.1868)"
      ]
     },
     "execution_count": 60,
     "metadata": {},
     "output_type": "execute_result"
    }
   ],
   "source": [
    "accuracy(preds, test_data.labels)"
   ]
  },
  {
   "cell_type": "code",
   "execution_count": null,
   "id": "04aacebb",
   "metadata": {},
   "outputs": [],
   "source": []
  },
  {
   "cell_type": "code",
   "execution_count": null,
   "id": "d0e160af",
   "metadata": {},
   "outputs": [],
   "source": []
  },
  {
   "cell_type": "code",
   "execution_count": null,
   "id": "8c9c9899",
   "metadata": {},
   "outputs": [],
   "source": []
  }
 ],
 "metadata": {
  "kernelspec": {
   "display_name": "Python 3 (ipykernel)",
   "language": "python",
   "name": "python3"
  },
  "language_info": {
   "codemirror_mode": {
    "name": "ipython",
    "version": 3
   },
   "file_extension": ".py",
   "mimetype": "text/x-python",
   "name": "python",
   "nbconvert_exporter": "python",
   "pygments_lexer": "ipython3",
   "version": "3.10.10"
  }
 },
 "nbformat": 4,
 "nbformat_minor": 5
}
