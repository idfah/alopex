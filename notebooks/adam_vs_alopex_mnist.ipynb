{
 "cells": [
  {
   "cell_type": "markdown",
   "id": "ae376ddd",
   "metadata": {},
   "source": [
    "# Adam vs. Alopex on MNIST in PyTorch"
   ]
  },
  {
   "cell_type": "code",
   "execution_count": 1,
   "id": "f81da29d",
   "metadata": {},
   "outputs": [],
   "source": [
    "import matplotlib\n",
    "%matplotlib inline\n",
    "matplotlib.rcParams['figure.figsize'] = (12, 12)"
   ]
  },
  {
   "cell_type": "code",
   "execution_count": 2,
   "id": "953c07bb",
   "metadata": {},
   "outputs": [],
   "source": [
    "import collections\n",
    "import gzip\n",
    "import itertools\n",
    "import math\n",
    "import random\n",
    "import struct\n",
    "\n",
    "import tqdm.notebook as tqdm\n",
    "import munch\n",
    "\n",
    "import matplotlib.pyplot as plt\n",
    "import numpy as np\n",
    "\n",
    "import skimage as ski\n",
    "\n",
    "import torch as th"
   ]
  },
  {
   "cell_type": "code",
   "execution_count": null,
   "id": "d99b2dd4",
   "metadata": {},
   "outputs": [],
   "source": []
  },
  {
   "cell_type": "code",
   "execution_count": 3,
   "id": "f08314e1",
   "metadata": {},
   "outputs": [],
   "source": [
    "class MNIST(th.utils.data.Dataset):\n",
    "    def __init__(self, partition='train'):\n",
    "        super().__init__()\n",
    "        \n",
    "        self.images, self.labels = self._load_mnist(partition=partition)\n",
    "        \n",
    "    @staticmethod\n",
    "    def _load_mnist(partition):\n",
    "        if partition == 'train':\n",
    "            file_prefix = 'train'\n",
    "        elif partition == 'test':\n",
    "            file_prefix = 't10k'\n",
    "        else:\n",
    "            raise ValueError(f'Invalid parition: {parition}')\n",
    "    \n",
    "        # thanks:\n",
    "        # https://stackoverflow.com/questions/39969045/parsing-yann-lecuns-mnist-idx-file-format\n",
    "        with gzip.open(f'../data/torchvision/MNIST/raw/{file_prefix}-images-idx3-ubyte.gz', mode='rb') as fh:\n",
    "            _magic, size = struct.unpack('>II', fh.read(8))\n",
    "            nrows, ncols = struct.unpack('>II', fh.read(8))\n",
    "            data = np.frombuffer(fh.read(), dtype=np.dtype(np.uint8).newbyteorder('>')).copy()\n",
    "            imgs = data.reshape((size, 1, nrows, ncols)) / 255.\n",
    "\n",
    "        with gzip.open(f'../data/torchvision/MNIST/raw/{file_prefix}-labels-idx1-ubyte.gz', mode='rb') as fh:\n",
    "            _magic, _size = struct.unpack('>II', fh.read(8))\n",
    "            labels = np.frombuffer(fh.read(), dtype=np.dtype(np.uint8).newbyteorder('>')).copy()\n",
    "\n",
    "        return th.as_tensor(imgs, dtype=th.float32), th.as_tensor(labels, dtype=th.int64)\n",
    "    \n",
    "    def __getitem__(self, idx):\n",
    "        return self.images[idx], self.labels[idx]\n",
    "    \n",
    "    def __len__(self):\n",
    "        return len(self.images)\n",
    "    \n",
    "    def plot_montage(self, n=36):\n",
    "        #rng = random.Random(seed)\n",
    "        #idxs = rng.sample(range(len(self)), n)\n",
    "        idxs = range(n)\n",
    "        \n",
    "        imgs = np.moveaxis(self.images[idxs].numpy(), 1, -1)\n",
    "\n",
    "        montage = ski.util.montage(imgs, channel_axis=-1)\n",
    "\n",
    "        fig, ax = plt.subplots()\n",
    "        ax.imshow(montage, cmap=plt.cm.gray)\n",
    "        ax.axis('off')"
   ]
  },
  {
   "cell_type": "code",
   "execution_count": 4,
   "id": "602c90c1",
   "metadata": {},
   "outputs": [
    {
     "data": {
      "text/plain": [
       "60000"
      ]
     },
     "execution_count": 4,
     "metadata": {},
     "output_type": "execute_result"
    }
   ],
   "source": [
    "train_data = MNIST(partition='train')\n",
    "len(train_data)"
   ]
  },
  {
   "cell_type": "code",
   "execution_count": 5,
   "id": "0974f6fd",
   "metadata": {},
   "outputs": [
    {
     "data": {
      "text/plain": [
       "10000"
      ]
     },
     "execution_count": 5,
     "metadata": {},
     "output_type": "execute_result"
    }
   ],
   "source": [
    "test_data = MNIST(partition='test')\n",
    "len(test_data)"
   ]
  },
  {
   "cell_type": "code",
   "execution_count": 6,
   "id": "3ce759c9",
   "metadata": {},
   "outputs": [
    {
     "data": {
      "image/png": "[encoded data removed]",
      "text/plain": [
       "<Figure size 864x864 with 1 Axes>"
      ]
     },
     "metadata": {
      "needs_background": "light"
     },
     "output_type": "display_data"
    }
   ],
   "source": [
    "train_data.plot_montage()"
   ]
  },
  {
   "cell_type": "code",
   "execution_count": null,
   "id": "c0ae1e12",
   "metadata": {},
   "outputs": [],
   "source": []
  },
  {
   "cell_type": "code",
   "execution_count": 7,
   "id": "a7f3fa45",
   "metadata": {},
   "outputs": [
    {
     "data": {
      "text/plain": [
       "(torch.Size([1, 28, 28]), torch.Size([]))"
      ]
     },
     "execution_count": 7,
     "metadata": {},
     "output_type": "execute_result"
    }
   ],
   "source": [
    "image, label = train_data[0]\n",
    "image.shape, label.shape"
   ]
  },
  {
   "cell_type": "code",
   "execution_count": 8,
   "id": "1ee80f43",
   "metadata": {},
   "outputs": [
    {
     "data": {
      "text/plain": [
       "(tensor([0.1307]), tensor([0.3081]))"
      ]
     },
     "execution_count": 8,
     "metadata": {},
     "output_type": "execute_result"
    }
   ],
   "source": [
    "train_data.images.mean(dim=(0, 2, 3)), train_data.images.std(dim=(0, 2, 3))"
   ]
  },
  {
   "cell_type": "code",
   "execution_count": 9,
   "id": "2ad14a78",
   "metadata": {},
   "outputs": [],
   "source": [
    "class _LREqualizer(th.nn.Module):\n",
    "    def __init__(self, nonlinearity, alpha=None):\n",
    "        super().__init__()\n",
    "        self.nonlinearity = nonlinearity\n",
    "        self.alpha = alpha\n",
    "\n",
    "    def forward(self, w):\n",
    "        fan_in, fan_out = th.nn.init._calculate_fan_in_and_fan_out(w)\n",
    "        gain = th.nn.init.calculate_gain(\n",
    "            nonlinearity=self.nonlinearity, param=self.alpha)\n",
    "\n",
    "        return gain * w / math.sqrt(fan_in)"
   ]
  },
  {
   "cell_type": "code",
   "execution_count": 10,
   "id": "becbfe09",
   "metadata": {},
   "outputs": [],
   "source": [
    "class _Conv2d(th.nn.Conv2d):\n",
    "    def __init__(self, in_chans, out_chans, kernel_size, stride=1):\n",
    "        super().__init__(\n",
    "            in_chans, out_chans,\n",
    "            kernel_size=kernel_size,\n",
    "            stride=stride,\n",
    "            padding=kernel_size // 2,\n",
    "        )\n",
    "        \n",
    "        th.nn.utils.parametrize.register_parametrization(\n",
    "            self, 'weight', _LREqualizer(nonlinearity='leaky_relu', alpha=1e-3))\n",
    "        \n",
    "    def reset_parameters(self):\n",
    "        #th.nn.init.kaiming_normal_(self.weight, nonlinearity='relu')\n",
    "        th.nn.init.normal_(self.weight)\n",
    "        if getattr(self, 'bias', None) is not None:\n",
    "            th.nn.init.zeros_(self.bias)"
   ]
  },
  {
   "cell_type": "code",
   "execution_count": 11,
   "id": "88ad9cb9",
   "metadata": {},
   "outputs": [],
   "source": [
    "class _Linear(th.nn.Linear):\n",
    "    def __init__(self, in_chans, out_chans, **kwargs):\n",
    "        super().__init__(in_chans, out_chans, **kwargs)\n",
    "        th.nn.utils.parametrize.register_parametrization(\n",
    "            self, 'weight', _LREqualizer(nonlinearity='leaky_relu', alpha=1e-3))\n",
    "        \n",
    "    def reset_parameters(self):\n",
    "        th.nn.init.normal_(self.weight)\n",
    "        if getattr(self, 'bias', None) is not None:\n",
    "            th.nn.init.zeros_(self.bias)\n",
    "    \n",
    "    #def reset_parameters(self):\n",
    "    #    if not self.has_uninitialized_params() and self.in_features != 0:        \n",
    "    #        #th.nn.init.kaiming_normal_(self.weight, nonlinearity='relu')\n",
    "    #        th.nn.init.normal_(self.weight)\n",
    "    #        if getattr(self, 'bias', None) is not None:\n",
    "    #            th.nn.init.zeros_(self.bias)"
   ]
  },
  {
   "cell_type": "code",
   "execution_count": 12,
   "id": "edff784f",
   "metadata": {},
   "outputs": [],
   "source": [
    "_LayerSpec = collections.namedtuple(\n",
    "    '_LayerSpec', ('num_filters', 'kernel_size', 'stride'), defaults=(2, 3))\n",
    "_default_layer_specs = (\n",
    "    ( 8, 3, 1),\n",
    "    (16, 3, 2),\n",
    "    (32, 3, 2),\n",
    "    (64, 3, 2),\n",
    ")\n",
    "\n",
    "class CNN(th.nn.Module):\n",
    "    def __init__(self, in_chans=1, img_size=28, num_classes=10, layer_specs=_default_layer_specs, num_dense=128,\n",
    "                 means=[0.1307,], stdevs=[0.3081,]):\n",
    "        super().__init__()\n",
    "        \n",
    "        layer_specs = list(itertools.starmap(_LayerSpec, layer_specs))\n",
    "        \n",
    "        self.register_buffer(\n",
    "            'means', th.as_tensor(means).view(1, -1, 1, 1), persistent=False)\n",
    "        self.register_buffer(\n",
    "            'stdevs', th.as_tensor(stdevs).view(1, -1, 1, 1), persistent=False)\n",
    "        \n",
    "        small_img_size = img_size\n",
    "        for layer_spec in layer_specs:\n",
    "            small_img_size = math.ceil(small_img_size / layer_spec.stride)\n",
    "\n",
    "        self.conv = th.nn.Sequential()\n",
    "        layer_in, layer_out = None, in_chans\n",
    "        for layer_spec in layer_specs:\n",
    "            layer_in, layer_out = layer_out, layer_spec.num_filters\n",
    "            num_filters, kernel_size, stride = layer_spec\n",
    "            \n",
    "            self.conv.append(\n",
    "                th.nn.Sequential(\n",
    "                    _Conv2d(\n",
    "                        layer_in, layer_out,\n",
    "                        kernel_size=kernel_size,\n",
    "                        stride=stride),\n",
    "                    #th.nn.SELU(inplace=True),\n",
    "                    th.nn.LeakyReLU(inplace=True, negative_slope=1e-3),\n",
    "                )\n",
    "            )\n",
    "            \n",
    "        dense_dim = layer_out * small_img_size**2\n",
    "        self.dense = th.nn.Sequential(\n",
    "            th.nn.Flatten(),\n",
    "            _Linear(dense_dim, num_dense),\n",
    "            #_LazyLinear(num_dense),\n",
    "            #th.nn.SELU(inplace=True),\n",
    "            th.nn.LeakyReLU(inplace=True, negative_slope=1e-3),\n",
    "            _Linear(num_dense, num_classes),\n",
    "        )\n",
    "        \n",
    "    def forward(self, imgs):\n",
    "        x = (imgs - self.means) / self.stdevs\n",
    "        return self.dense(self.conv(x))\n",
    "    \n",
    "    @th.no_grad()\n",
    "    def predict(self, imgs):\n",
    "        logits = th.softmax(self(imgs), dim=1)\n",
    "        return th.argmax(logits, dim=1)"
   ]
  },
  {
   "cell_type": "code",
   "execution_count": 13,
   "id": "1f42e110",
   "metadata": {},
   "outputs": [
    {
     "data": {
      "text/plain": [
       "CNN(\n",
       "  (conv): Sequential(\n",
       "    (0): Sequential(\n",
       "      (0): Parametrized_Conv2d(\n",
       "        1, 8, kernel_size=(3, 3), stride=(1, 1), padding=(1, 1)\n",
       "        (parametrizations): ModuleDict(\n",
       "          (weight): ParametrizationList(\n",
       "            (0): _LREqualizer()\n",
       "          )\n",
       "        )\n",
       "      )\n",
       "      (1): LeakyReLU(negative_slope=0.001, inplace=True)\n",
       "    )\n",
       "    (1): Sequential(\n",
       "      (0): Parametrized_Conv2d(\n",
       "        8, 16, kernel_size=(3, 3), stride=(2, 2), padding=(1, 1)\n",
       "        (parametrizations): ModuleDict(\n",
       "          (weight): ParametrizationList(\n",
       "            (0): _LREqualizer()\n",
       "          )\n",
       "        )\n",
       "      )\n",
       "      (1): LeakyReLU(negative_slope=0.001, inplace=True)\n",
       "    )\n",
       "    (2): Sequential(\n",
       "      (0): Parametrized_Conv2d(\n",
       "        16, 32, kernel_size=(3, 3), stride=(2, 2), padding=(1, 1)\n",
       "        (parametrizations): ModuleDict(\n",
       "          (weight): ParametrizationList(\n",
       "            (0): _LREqualizer()\n",
       "          )\n",
       "        )\n",
       "      )\n",
       "      (1): LeakyReLU(negative_slope=0.001, inplace=True)\n",
       "    )\n",
       "    (3): Sequential(\n",
       "      (0): Parametrized_Conv2d(\n",
       "        32, 64, kernel_size=(3, 3), stride=(2, 2), padding=(1, 1)\n",
       "        (parametrizations): ModuleDict(\n",
       "          (weight): ParametrizationList(\n",
       "            (0): _LREqualizer()\n",
       "          )\n",
       "        )\n",
       "      )\n",
       "      (1): LeakyReLU(negative_slope=0.001, inplace=True)\n",
       "    )\n",
       "  )\n",
       "  (dense): Sequential(\n",
       "    (0): Flatten(start_dim=1, end_dim=-1)\n",
       "    (1): Parametrized_Linear(\n",
       "      in_features=1024, out_features=128, bias=True\n",
       "      (parametrizations): ModuleDict(\n",
       "        (weight): ParametrizationList(\n",
       "          (0): _LREqualizer()\n",
       "        )\n",
       "      )\n",
       "    )\n",
       "    (2): LeakyReLU(negative_slope=0.001, inplace=True)\n",
       "    (3): Parametrized_Linear(\n",
       "      in_features=128, out_features=10, bias=True\n",
       "      (parametrizations): ModuleDict(\n",
       "        (weight): ParametrizationList(\n",
       "          (0): _LREqualizer()\n",
       "        )\n",
       "      )\n",
       "    )\n",
       "  )\n",
       ")"
      ]
     },
     "execution_count": 13,
     "metadata": {},
     "output_type": "execute_result"
    }
   ],
   "source": [
    "model = CNN()\n",
    "model"
   ]
  },
  {
   "cell_type": "code",
   "execution_count": 14,
   "id": "f5f4d584",
   "metadata": {},
   "outputs": [
    {
     "data": {
      "text/plain": [
       "(torch.Size([32, 10]), tensor(0.2726), tensor(0.7461))"
      ]
     },
     "execution_count": 14,
     "metadata": {},
     "output_type": "execute_result"
    }
   ],
   "source": [
    "with th.no_grad():\n",
    "    preds = model(train_data.images[:32])\n",
    "preds.shape, preds.mean(), preds.std()"
   ]
  },
  {
   "cell_type": "code",
   "execution_count": null,
   "id": "b37a2f07",
   "metadata": {},
   "outputs": [],
   "source": []
  },
  {
   "cell_type": "code",
   "execution_count": 15,
   "id": "4b66702b",
   "metadata": {},
   "outputs": [
    {
     "name": "stdout",
     "output_type": "stream",
     "text": [
      "free parameters: 156874\n"
     ]
    }
   ],
   "source": [
    "print('free parameters:',\n",
    "      sum(params.numel() for params in model.parameters() if params.requires_grad))"
   ]
  },
  {
   "cell_type": "markdown",
   "id": "4230b543",
   "metadata": {},
   "source": [
    "## Training with Adam"
   ]
  },
  {
   "cell_type": "code",
   "execution_count": 16,
   "id": "9da915f5",
   "metadata": {},
   "outputs": [],
   "source": [
    "def train_adam(model, data, epochs=30, batch_size=256, lr=0.001, lr_decay=0.98,\n",
    "               device=0, num_workers=0):\n",
    "    \n",
    "    model.to(device)\n",
    "    model.train()\n",
    "    \n",
    "    opt = th.optim.Adam(model.parameters(), lr=lr)\n",
    "    sched = th.optim.lr_scheduler.ExponentialLR(opt, gamma=lr_decay)\n",
    "    \n",
    "    dataloader = th.utils.data.DataLoader(\n",
    "        data,\n",
    "        batch_size=batch_size,\n",
    "        shuffle=True,\n",
    "        drop_last=True,\n",
    "        num_workers=num_workers,\n",
    "        pin_memory=True,\n",
    "    )\n",
    "    \n",
    "    losses = []\n",
    "\n",
    "    for epoch in tqdm.trange(epochs, desc='epoch', leave=True):\n",
    "        for images, labels in tqdm.tqdm(dataloader, desc='batch', leave=False):\n",
    "            images = images.to(device=device, non_blocking=True)\n",
    "            labels = labels.to(device=device, non_blocking=True)\n",
    "            \n",
    "            preds = model(images)\n",
    "            loss = th.nn.functional.cross_entropy(preds, labels)\n",
    "            losses.append(loss.item())\n",
    "\n",
    "            opt.zero_grad()\n",
    "            loss.backward()\n",
    "            opt.step()\n",
    "            \n",
    "        sched.step()\n",
    "        \n",
    "    model.eval()\n",
    "    model.cpu()\n",
    "    \n",
    "    return munch.Munch(\n",
    "        losses=losses,\n",
    "    )"
   ]
  },
  {
   "cell_type": "code",
   "execution_count": 17,
   "id": "ed1f90eb",
   "metadata": {},
   "outputs": [
    {
     "data": {
      "application/vnd.jupyter.widget-view+json": {
       "model_id": "8057a596b2c74d5790b2657111d954d5",
       "version_major": 2,
       "version_minor": 0
      },
      "text/plain": [
       "epoch:   0%|          | 0/30 [00:00<?, ?it/s]"
      ]
     },
     "metadata": {},
     "output_type": "display_data"
    },
    {
     "data": {
      "application/vnd.jupyter.widget-view+json": {
       "model_id": "",
       "version_major": 2,
       "version_minor": 0
      },
      "text/plain": [
       "batch:   0%|          | 0/234 [00:00<?, ?it/s]"
      ]
     },
     "metadata": {},
     "output_type": "display_data"
    },
    {
     "data": {
      "application/vnd.jupyter.widget-view+json": {
       "model_id": "",
       "version_major": 2,
       "version_minor": 0
      },
      "text/plain": [
       "batch:   0%|          | 0/234 [00:00<?, ?it/s]"
      ]
     },
     "metadata": {},
     "output_type": "display_data"
    },
    {
     "data": {
      "application/vnd.jupyter.widget-view+json": {
       "model_id": "",
       "version_major": 2,
       "version_minor": 0
      },
      "text/plain": [
       "batch:   0%|          | 0/234 [00:00<?, ?it/s]"
      ]
     },
     "metadata": {},
     "output_type": "display_data"
    },
    {
     "data": {
      "application/vnd.jupyter.widget-view+json": {
       "model_id": "",
       "version_major": 2,
       "version_minor": 0
      },
      "text/plain": [
       "batch:   0%|          | 0/234 [00:00<?, ?it/s]"
      ]
     },
     "metadata": {},
     "output_type": "display_data"
    },
    {
     "data": {
      "application/vnd.jupyter.widget-view+json": {
       "model_id": "",
       "version_major": 2,
       "version_minor": 0
      },
      "text/plain": [
       "batch:   0%|          | 0/234 [00:00<?, ?it/s]"
      ]
     },
     "metadata": {},
     "output_type": "display_data"
    },
    {
     "data": {
      "application/vnd.jupyter.widget-view+json": {
       "model_id": "",
       "version_major": 2,
       "version_minor": 0
      },
      "text/plain": [
       "batch:   0%|          | 0/234 [00:00<?, ?it/s]"
      ]
     },
     "metadata": {},
     "output_type": "display_data"
    },
    {
     "data": {
      "application/vnd.jupyter.widget-view+json": {
       "model_id": "",
       "version_major": 2,
       "version_minor": 0
      },
      "text/plain": [
       "batch:   0%|          | 0/234 [00:00<?, ?it/s]"
      ]
     },
     "metadata": {},
     "output_type": "display_data"
    },
    {
     "data": {
      "application/vnd.jupyter.widget-view+json": {
       "model_id": "",
       "version_major": 2,
       "version_minor": 0
      },
      "text/plain": [
       "batch:   0%|          | 0/234 [00:00<?, ?it/s]"
      ]
     },
     "metadata": {},
     "output_type": "display_data"
    },
    {
     "data": {
      "application/vnd.jupyter.widget-view+json": {
       "model_id": "",
       "version_major": 2,
       "version_minor": 0
      },
      "text/plain": [
       "batch:   0%|          | 0/234 [00:00<?, ?it/s]"
      ]
     },
     "metadata": {},
     "output_type": "display_data"
    },
    {
     "data": {
      "application/vnd.jupyter.widget-view+json": {
       "model_id": "",
       "version_major": 2,
       "version_minor": 0
      },
      "text/plain": [
       "batch:   0%|          | 0/234 [00:00<?, ?it/s]"
      ]
     },
     "metadata": {},
     "output_type": "display_data"
    },
    {
     "data": {
      "application/vnd.jupyter.widget-view+json": {
       "model_id": "",
       "version_major": 2,
       "version_minor": 0
      },
      "text/plain": [
       "batch:   0%|          | 0/234 [00:00<?, ?it/s]"
      ]
     },
     "metadata": {},
     "output_type": "display_data"
    },
    {
     "data": {
      "application/vnd.jupyter.widget-view+json": {
       "model_id": "",
       "version_major": 2,
       "version_minor": 0
      },
      "text/plain": [
       "batch:   0%|          | 0/234 [00:00<?, ?it/s]"
      ]
     },
     "metadata": {},
     "output_type": "display_data"
    },
    {
     "data": {
      "application/vnd.jupyter.widget-view+json": {
       "model_id": "",
       "version_major": 2,
       "version_minor": 0
      },
      "text/plain": [
       "batch:   0%|          | 0/234 [00:00<?, ?it/s]"
      ]
     },
     "metadata": {},
     "output_type": "display_data"
    },
    {
     "data": {
      "application/vnd.jupyter.widget-view+json": {
       "model_id": "",
       "version_major": 2,
       "version_minor": 0
      },
      "text/plain": [
       "batch:   0%|          | 0/234 [00:00<?, ?it/s]"
      ]
     },
     "metadata": {},
     "output_type": "display_data"
    },
    {
     "data": {
      "application/vnd.jupyter.widget-view+json": {
       "model_id": "",
       "version_major": 2,
       "version_minor": 0
      },
      "text/plain": [
       "batch:   0%|          | 0/234 [00:00<?, ?it/s]"
      ]
     },
     "metadata": {},
     "output_type": "display_data"
    },
    {
     "data": {
      "application/vnd.jupyter.widget-view+json": {
       "model_id": "",
       "version_major": 2,
       "version_minor": 0
      },
      "text/plain": [
       "batch:   0%|          | 0/234 [00:00<?, ?it/s]"
      ]
     },
     "metadata": {},
     "output_type": "display_data"
    },
    {
     "data": {
      "application/vnd.jupyter.widget-view+json": {
       "model_id": "",
       "version_major": 2,
       "version_minor": 0
      },
      "text/plain": [
       "batch:   0%|          | 0/234 [00:00<?, ?it/s]"
      ]
     },
     "metadata": {},
     "output_type": "display_data"
    },
    {
     "data": {
      "application/vnd.jupyter.widget-view+json": {
       "model_id": "",
       "version_major": 2,
       "version_minor": 0
      },
      "text/plain": [
       "batch:   0%|          | 0/234 [00:00<?, ?it/s]"
      ]
     },
     "metadata": {},
     "output_type": "display_data"
    },
    {
     "data": {
      "application/vnd.jupyter.widget-view+json": {
       "model_id": "",
       "version_major": 2,
       "version_minor": 0
      },
      "text/plain": [
       "batch:   0%|          | 0/234 [00:00<?, ?it/s]"
      ]
     },
     "metadata": {},
     "output_type": "display_data"
    },
    {
     "data": {
      "application/vnd.jupyter.widget-view+json": {
       "model_id": "",
       "version_major": 2,
       "version_minor": 0
      },
      "text/plain": [
       "batch:   0%|          | 0/234 [00:00<?, ?it/s]"
      ]
     },
     "metadata": {},
     "output_type": "display_data"
    },
    {
     "data": {
      "application/vnd.jupyter.widget-view+json": {
       "model_id": "",
       "version_major": 2,
       "version_minor": 0
      },
      "text/plain": [
       "batch:   0%|          | 0/234 [00:00<?, ?it/s]"
      ]
     },
     "metadata": {},
     "output_type": "display_data"
    },
    {
     "data": {
      "application/vnd.jupyter.widget-view+json": {
       "model_id": "",
       "version_major": 2,
       "version_minor": 0
      },
      "text/plain": [
       "batch:   0%|          | 0/234 [00:00<?, ?it/s]"
      ]
     },
     "metadata": {},
     "output_type": "display_data"
    },
    {
     "data": {
      "application/vnd.jupyter.widget-view+json": {
       "model_id": "",
       "version_major": 2,
       "version_minor": 0
      },
      "text/plain": [
       "batch:   0%|          | 0/234 [00:00<?, ?it/s]"
      ]
     },
     "metadata": {},
     "output_type": "display_data"
    },
    {
     "data": {
      "application/vnd.jupyter.widget-view+json": {
       "model_id": "",
       "version_major": 2,
       "version_minor": 0
      },
      "text/plain": [
       "batch:   0%|          | 0/234 [00:00<?, ?it/s]"
      ]
     },
     "metadata": {},
     "output_type": "display_data"
    },
    {
     "data": {
      "application/vnd.jupyter.widget-view+json": {
       "model_id": "",
       "version_major": 2,
       "version_minor": 0
      },
      "text/plain": [
       "batch:   0%|          | 0/234 [00:00<?, ?it/s]"
      ]
     },
     "metadata": {},
     "output_type": "display_data"
    },
    {
     "data": {
      "application/vnd.jupyter.widget-view+json": {
       "model_id": "",
       "version_major": 2,
       "version_minor": 0
      },
      "text/plain": [
       "batch:   0%|          | 0/234 [00:00<?, ?it/s]"
      ]
     },
     "metadata": {},
     "output_type": "display_data"
    },
    {
     "data": {
      "application/vnd.jupyter.widget-view+json": {
       "model_id": "",
       "version_major": 2,
       "version_minor": 0
      },
      "text/plain": [
       "batch:   0%|          | 0/234 [00:00<?, ?it/s]"
      ]
     },
     "metadata": {},
     "output_type": "display_data"
    },
    {
     "data": {
      "application/vnd.jupyter.widget-view+json": {
       "model_id": "",
       "version_major": 2,
       "version_minor": 0
      },
      "text/plain": [
       "batch:   0%|          | 0/234 [00:00<?, ?it/s]"
      ]
     },
     "metadata": {},
     "output_type": "display_data"
    },
    {
     "data": {
      "application/vnd.jupyter.widget-view+json": {
       "model_id": "",
       "version_major": 2,
       "version_minor": 0
      },
      "text/plain": [
       "batch:   0%|          | 0/234 [00:00<?, ?it/s]"
      ]
     },
     "metadata": {},
     "output_type": "display_data"
    },
    {
     "data": {
      "application/vnd.jupyter.widget-view+json": {
       "model_id": "",
       "version_major": 2,
       "version_minor": 0
      },
      "text/plain": [
       "batch:   0%|          | 0/234 [00:00<?, ?it/s]"
      ]
     },
     "metadata": {},
     "output_type": "display_data"
    }
   ],
   "source": [
    "adam_result = train_adam(model, train_data, epochs=30)"
   ]
  },
  {
   "cell_type": "code",
   "execution_count": 18,
   "id": "8698b54a",
   "metadata": {},
   "outputs": [
    {
     "data": {
      "image/png": "[encoded data removed]",
      "text/plain": [
       "<Figure size 864x864 with 1 Axes>"
      ]
     },
     "metadata": {
      "needs_background": "light"
     },
     "output_type": "display_data"
    }
   ],
   "source": [
    "plt.plot(adam_result.losses);\n",
    "plt.grid();"
   ]
  },
  {
   "cell_type": "code",
   "execution_count": 19,
   "id": "1cdc71ee",
   "metadata": {},
   "outputs": [
    {
     "data": {
      "text/plain": [
       "tensor([[7, 2, 1, 0, 4, 1],\n",
       "        [4, 9, 5, 9, 0, 6],\n",
       "        [9, 0, 1, 5, 9, 7],\n",
       "        [3, 4, 9, 6, 6, 5],\n",
       "        [4, 0, 7, 4, 0, 1],\n",
       "        [3, 1, 3, 4, 7, 2]])"
      ]
     },
     "execution_count": 19,
     "metadata": {},
     "output_type": "execute_result"
    }
   ],
   "source": [
    "test_data.labels[:36].view(6, 6)"
   ]
  },
  {
   "cell_type": "code",
   "execution_count": 20,
   "id": "b2b9a3dc",
   "metadata": {},
   "outputs": [
    {
     "data": {
      "text/plain": [
       "tensor([[7, 2, 1, 0, 4, 1],\n",
       "        [4, 9, 6, 9, 0, 6],\n",
       "        [9, 0, 1, 5, 9, 7],\n",
       "        [3, 4, 9, 6, 6, 5],\n",
       "        [4, 0, 7, 4, 0, 1],\n",
       "        [3, 1, 3, 4, 7, 2]])"
      ]
     },
     "execution_count": 20,
     "metadata": {},
     "output_type": "execute_result"
    }
   ],
   "source": [
    "preds = model.predict(test_data.images)\n",
    "preds[:36].view(6, 6)"
   ]
  },
  {
   "cell_type": "code",
   "execution_count": 21,
   "id": "fd1a160a",
   "metadata": {},
   "outputs": [
    {
     "data": {
      "image/png": "[encoded data removed]",
      "text/plain": [
       "<Figure size 864x864 with 1 Axes>"
      ]
     },
     "metadata": {
      "needs_background": "light"
     },
     "output_type": "display_data"
    }
   ],
   "source": [
    "test_data.plot_montage(36)"
   ]
  },
  {
   "cell_type": "code",
   "execution_count": 22,
   "id": "dc43d2c8",
   "metadata": {},
   "outputs": [],
   "source": [
    "def accuracy(y, g):\n",
    "    return (y == g).to(th.float32).mean()"
   ]
  },
  {
   "cell_type": "code",
   "execution_count": 23,
   "id": "dc1132b2",
   "metadata": {},
   "outputs": [
    {
     "data": {
      "text/plain": [
       "tensor(0.9830)"
      ]
     },
     "execution_count": 23,
     "metadata": {},
     "output_type": "execute_result"
    }
   ],
   "source": [
    "accuracy(preds, test_data.labels)"
   ]
  },
  {
   "cell_type": "markdown",
   "id": "32b4f19b",
   "metadata": {},
   "source": [
    "## Training with Alopex"
   ]
  },
  {
   "cell_type": "code",
   "execution_count": null,
   "id": "1cd4cb91",
   "metadata": {},
   "outputs": [],
   "source": []
  },
  {
   "cell_type": "code",
   "execution_count": null,
   "id": "89fba8c4",
   "metadata": {},
   "outputs": [],
   "source": []
  },
  {
   "cell_type": "code",
   "execution_count": null,
   "id": "bd4393fc",
   "metadata": {},
   "outputs": [],
   "source": []
  },
  {
   "cell_type": "code",
   "execution_count": 24,
   "id": "aa9007fe",
   "metadata": {},
   "outputs": [],
   "source": [
    "class Alopex(th.optim.Optimizer):\n",
    "    '''ALgorithm Of Pattern EXtraction (ALOPEX) 99/B version.\n",
    "    '''\n",
    "    def __init__(self, params, lr=5e-3, forget_factor=0.1, eps=1e-8):\n",
    "        defaults = dict(\n",
    "            lr=lr,\n",
    "            forget_factor=forget_factor,\n",
    "            eps=eps,\n",
    "        )\n",
    "        super().__init__(params, defaults)\n",
    "        \n",
    "    def _init_group(self, group, dws):\n",
    "        for param in group['params']:\n",
    "            state = self.state[param]\n",
    "\n",
    "            # lazy state initialization\n",
    "            first_step = False\n",
    "            if len(state) <= 2:\n",
    "                state['step'] = th.zeros((1,), dtype=th.float, device=param.device)\n",
    "                state['dw'] = th.zeros_like(param)\n",
    "                first_step = True\n",
    "\n",
    "            dws.append(state['dw'])\n",
    "            return first_step\n",
    "\n",
    "    @th.no_grad()\n",
    "    def step(self, closure):\n",
    "        error = closure()\n",
    "\n",
    "        first_state = self.state[self.param_groups[0]['params'][0]]\n",
    "        if len(first_state) == 0:\n",
    "            first_state['error'] = error\n",
    "            first_state['mu'] = th.zeros((1,), dtype=th.float)\n",
    "\n",
    "        de = error - first_state['error']\n",
    "        first_state['error'] = error\n",
    "        mu = first_state['mu']\n",
    "\n",
    "        for group in self.param_groups:\n",
    "            dws = []\n",
    "\n",
    "            first_step = self._init_group(\n",
    "                group=group,\n",
    "                dws=dws,\n",
    "            )\n",
    "            \n",
    "            if first_step:\n",
    "                self._alopex_first_step(\n",
    "                    params=group['params'],\n",
    "                    lr=group['lr'],\n",
    "                    dws=dws)\n",
    "            else:\n",
    "                self._alopex_step(\n",
    "                    params=group['params'],\n",
    "                    lr=group['lr'],\n",
    "                    mu=mu,\n",
    "                    dws=dws,\n",
    "                    de=de,\n",
    "                    forget_factor=group['forget_factor'],\n",
    "                    eps=group['eps'],\n",
    "            )\n",
    "\n",
    "        return error\n",
    "    \n",
    "    @staticmethod\n",
    "    def _alopex_first_step(params, lr, dws):\n",
    "        for param, dw in zip(params, dws):\n",
    "            draw = th.rand_like(param)\n",
    "            dw[...] = th.where(draw < 0.5, -lr, lr)\n",
    "            param.add_(dw)\n",
    "    \n",
    "    @staticmethod\n",
    "    def _alopex_step(params, lr, mu, dws, de, forget_factor, eps):\n",
    "        '''\n",
    "        '''\n",
    "        corrs = []\n",
    "        corr_mag = th.zeros((1,), dtype=th.float)\n",
    "        \n",
    "        for param, dw in zip(params, dws):\n",
    "            de = de.to(dw.device)\n",
    "            corr = de * dw\n",
    "            corrs.append(corr)\n",
    "            corr_mag = corr_mag.to(param.device)\n",
    "            corr_mag.add_(th.sum(corr.abs()))\n",
    "\n",
    "        corr_mag.div_(sum(p.numel() for p in params))\n",
    "        #corr_mag.div_(len(params))\n",
    "        mu[...] = (1. - forget_factor) * mu + forget_factor * corr_mag.to(mu.device)\n",
    "        mu.clamp_(eps)\n",
    "        \n",
    "        for param, corr, dw in zip(params, corrs, dws):\n",
    "            mu = mu.to(device=param.device)\n",
    "            \n",
    "            prob = 1. / (1. + th.exp(-corr / mu))\n",
    "\n",
    "            draw = th.rand_like(param)\n",
    "            dw[...] = th.where(draw < prob, -lr, lr)\n",
    "            param.add_(dw)"
   ]
  },
  {
   "cell_type": "code",
   "execution_count": 25,
   "id": "452bc76f",
   "metadata": {},
   "outputs": [],
   "source": [
    "def train_alopex(model, data, epochs=30, batch_size=128, lr=0.001,\n",
    "                 device=0, num_workers=0, **kwargs):\n",
    "    \n",
    "    model.to(device)\n",
    "    model.train()\n",
    "    \n",
    "    opt = Alopex(model.parameters(), lr=lr, **kwargs)\n",
    "    \n",
    "    dataloader = th.utils.data.DataLoader(\n",
    "        data,\n",
    "        batch_size=batch_size,\n",
    "        shuffle=True,\n",
    "        drop_last=True,\n",
    "        num_workers=num_workers,\n",
    "        pin_memory=True,\n",
    "    )\n",
    "    \n",
    "    losses = []\n",
    "    mus = []\n",
    "\n",
    "    for epoch in (pbar_epoch := tqdm.trange(epochs, desc='epoch', leave=True)):\n",
    "        #for images, labels in (pbar_batch := tqdm.tqdm(dataloader, desc='batch', leave=False)):\n",
    "        for images, labels in dataloader:\n",
    "            images = images.to(device=device, non_blocking=True)\n",
    "            labels = labels.to(device=device, non_blocking=True)\n",
    "            \n",
    "            def closure():\n",
    "                preds = model(images)\n",
    "                loss = th.nn.functional.cross_entropy(preds, labels, reduction='mean')\n",
    "                losses.append(loss.item())\n",
    "                return loss\n",
    "\n",
    "            opt.step(closure)\n",
    "            mus.append(opt.state[opt.param_groups[0]['params'][0]]['mu'].item())\n",
    "            \n",
    "            #pbar_batch.set_postfix({'loss': losses[-1]})\n",
    "            \n",
    "        num_batches = len(dataloader)\n",
    "        pbar_epoch.set_postfix({'loss': sum(losses[-num_batches:]) / num_batches})\n",
    "        \n",
    "    model.eval()\n",
    "    model.cpu()\n",
    "    \n",
    "    return munch.Munch(\n",
    "        losses=losses,\n",
    "        mus=mus,\n",
    "    )"
   ]
  },
  {
   "cell_type": "code",
   "execution_count": 26,
   "id": "73375ecf",
   "metadata": {},
   "outputs": [
    {
     "data": {
      "text/plain": [
       "CNN(\n",
       "  (conv): Sequential(\n",
       "    (0): Sequential(\n",
       "      (0): Parametrized_Conv2d(\n",
       "        1, 8, kernel_size=(5, 5), stride=(2, 2), padding=(2, 2)\n",
       "        (parametrizations): ModuleDict(\n",
       "          (weight): ParametrizationList(\n",
       "            (0): _LREqualizer()\n",
       "          )\n",
       "        )\n",
       "      )\n",
       "      (1): LeakyReLU(negative_slope=0.001, inplace=True)\n",
       "    )\n",
       "  )\n",
       "  (dense): Sequential(\n",
       "    (0): Flatten(start_dim=1, end_dim=-1)\n",
       "    (1): Parametrized_Linear(\n",
       "      in_features=1568, out_features=128, bias=True\n",
       "      (parametrizations): ModuleDict(\n",
       "        (weight): ParametrizationList(\n",
       "          (0): _LREqualizer()\n",
       "        )\n",
       "      )\n",
       "    )\n",
       "    (2): LeakyReLU(negative_slope=0.001, inplace=True)\n",
       "    (3): Parametrized_Linear(\n",
       "      in_features=128, out_features=10, bias=True\n",
       "      (parametrizations): ModuleDict(\n",
       "        (weight): ParametrizationList(\n",
       "          (0): _LREqualizer()\n",
       "        )\n",
       "      )\n",
       "    )\n",
       "  )\n",
       ")"
      ]
     },
     "execution_count": 26,
     "metadata": {},
     "output_type": "execute_result"
    }
   ],
   "source": [
    "model = CNN(layer_specs=((8, 5, 2),),)\n",
    "model"
   ]
  },
  {
   "cell_type": "code",
   "execution_count": 27,
   "id": "17589e17",
   "metadata": {},
   "outputs": [
    {
     "data": {
      "application/vnd.jupyter.widget-view+json": {
       "model_id": "46140d7e95384640a4a3d10a82457ece",
       "version_major": 2,
       "version_minor": 0
      },
      "text/plain": [
       "epoch:   0%|          | 0/1000 [00:00<?, ?it/s]"
      ]
     },
     "metadata": {},
     "output_type": "display_data"
    }
   ],
   "source": [
    "alopex_result = train_alopex(model, train_data, batch_size=60_000, epochs=1_000, lr=0.001, forget_factor=0.1)"
   ]
  },
  {
   "cell_type": "code",
   "execution_count": 28,
   "id": "d819fc04",
   "metadata": {},
   "outputs": [
    {
     "data": {
      "image/png": "[encoded data removed]",
      "text/plain": [
       "<Figure size 864x864 with 1 Axes>"
      ]
     },
     "metadata": {
      "needs_background": "light"
     },
     "output_type": "display_data"
    }
   ],
   "source": [
    "plt.plot(alopex_result.losses);\n",
    "plt.grid();"
   ]
  },
  {
   "cell_type": "code",
   "execution_count": 29,
   "id": "7a115949",
   "metadata": {},
   "outputs": [
    {
     "data": {
      "image/png": "[encoded data removed]",
      "text/plain": [
       "<Figure size 864x864 with 1 Axes>"
      ]
     },
     "metadata": {
      "needs_background": "light"
     },
     "output_type": "display_data"
    }
   ],
   "source": [
    "plt.plot(alopex_result.mus);\n",
    "plt.grid();"
   ]
  },
  {
   "cell_type": "code",
   "execution_count": 30,
   "id": "f7b2a55f",
   "metadata": {},
   "outputs": [
    {
     "data": {
      "text/plain": [
       "tensor([[7, 2, 1, 0, 4, 1],\n",
       "        [4, 9, 5, 9, 0, 6],\n",
       "        [9, 0, 1, 5, 9, 7],\n",
       "        [3, 4, 9, 6, 6, 5],\n",
       "        [4, 0, 7, 4, 0, 1],\n",
       "        [3, 1, 3, 4, 7, 2]])"
      ]
     },
     "execution_count": 30,
     "metadata": {},
     "output_type": "execute_result"
    }
   ],
   "source": [
    "test_data.labels[:36].view(6, 6)"
   ]
  },
  {
   "cell_type": "code",
   "execution_count": 31,
   "id": "26d4bf0b",
   "metadata": {},
   "outputs": [
    {
     "data": {
      "text/plain": [
       "tensor([[0, 1, 5, 0, 4, 1],\n",
       "        [2, 1, 4, 5, 5, 3],\n",
       "        [1, 0, 1, 6, 3, 1],\n",
       "        [5, 2, 5, 7, 2, 1],\n",
       "        [6, 5, 6, 6, 0, 1],\n",
       "        [1, 1, 7, 2, 5, 4]])"
      ]
     },
     "execution_count": 31,
     "metadata": {},
     "output_type": "execute_result"
    }
   ],
   "source": [
    "preds = model.predict(test_data.images)\n",
    "preds[:36].view(6, 6)"
   ]
  },
  {
   "cell_type": "code",
   "execution_count": 32,
   "id": "a446fe37",
   "metadata": {},
   "outputs": [
    {
     "data": {
      "image/png": "[encoded data removed]",
      "text/plain": [
       "<Figure size 864x864 with 1 Axes>"
      ]
     },
     "metadata": {
      "needs_background": "light"
     },
     "output_type": "display_data"
    }
   ],
   "source": [
    "test_data.plot_montage(36)"
   ]
  },
  {
   "cell_type": "code",
   "execution_count": 33,
   "id": "979b99be",
   "metadata": {},
   "outputs": [
    {
     "data": {
      "text/plain": [
       "tensor(0.1676)"
      ]
     },
     "execution_count": 33,
     "metadata": {},
     "output_type": "execute_result"
    }
   ],
   "source": [
    "accuracy(preds, test_data.labels)"
   ]
  },
  {
   "cell_type": "code",
   "execution_count": null,
   "id": "5d0b0172",
   "metadata": {},
   "outputs": [],
   "source": []
  },
  {
   "cell_type": "code",
   "execution_count": null,
   "id": "646f887a",
   "metadata": {},
   "outputs": [],
   "source": []
  }
 ],
 "metadata": {
  "kernelspec": {
   "display_name": "Python 3 (ipykernel)",
   "language": "python",
   "name": "python3"
  },
  "language_info": {
   "codemirror_mode": {
    "name": "ipython",
    "version": 3
   },
   "file_extension": ".py",
   "mimetype": "text/x-python",
   "name": "python",
   "nbconvert_exporter": "python",
   "pygments_lexer": "ipython3",
   "version": "3.10.10"
  }
 },
 "nbformat": 4,
 "nbformat_minor": 5
}
